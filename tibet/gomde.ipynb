{
  "nbformat": 4,
  "nbformat_minor": 0,
  "metadata": {
    "colab": {
      "name": "gomde.ipynb",
      "provenance": [],
      "mount_file_id": "1l3BcsgqDHJanHM4viYANpZI4FpIlyv7D",
      "authorship_tag": "ABX9TyPZ6IsSlYkG2hW4VPy0jDHo",
      "include_colab_link": true
    },
    "kernelspec": {
      "name": "python3",
      "display_name": "Python 3"
    }
  },
  "cells": [
    {
      "cell_type": "markdown",
      "metadata": {
        "id": "view-in-github",
        "colab_type": "text"
      },
      "source": [
        "<a href=\"https://colab.research.google.com/github/OverflowCat/parseDicts/blob/slave/tibet/gomde.ipynb\" target=\"_parent\"><img src=\"https://colab.research.google.com/assets/colab-badge.svg\" alt=\"Open In Colab\"/></a>"
      ]
    },
    {
      "cell_type": "code",
      "metadata": {
        "colab": {
          "base_uri": "https://localhost:8080/"
        },
        "id": "rWW_JEd039jI",
        "outputId": "54242250-99ac-4eba-b314-393cd174cdcf"
      },
      "source": [
        "!pip install ebooklib\r\n",
        "import ebooklib\r\n",
        "from ebooklib import epub\r\n",
        "import binascii\r\n",
        "!mkdir writemdict\r\n",
        "!ls\r\n",
        "!cd writemdict\r\n",
        "!git clone https://github.com/zhansliu/writemdict --depth=1\r\n",
        "!cd ..\r\n",
        "import sys\r\n",
        "sys.path.insert(1, 'writemdict')\r\n",
        "!pip install beautifulsoup4\r\n",
        "from bs4 import BeautifulSoup"
      ],
      "execution_count": 1,
      "outputs": [
        {
          "output_type": "stream",
          "text": [
            "Collecting ebooklib\n",
            "\u001b[?25l  Downloading https://files.pythonhosted.org/packages/00/38/7d6ab2e569a9165249619d73b7bc6be0e713a899a3bc2513814b6598a84c/EbookLib-0.17.1.tar.gz (111kB)\n",
            "\r\u001b[K     |███                             | 10kB 15.6MB/s eta 0:00:01\r\u001b[K     |█████▉                          | 20kB 12.9MB/s eta 0:00:01\r\u001b[K     |████████▉                       | 30kB 7.4MB/s eta 0:00:01\r\u001b[K     |███████████▊                    | 40kB 7.3MB/s eta 0:00:01\r\u001b[K     |██████████████▊                 | 51kB 4.1MB/s eta 0:00:01\r\u001b[K     |█████████████████▋              | 61kB 4.6MB/s eta 0:00:01\r\u001b[K     |████████████████████▋           | 71kB 4.7MB/s eta 0:00:01\r\u001b[K     |███████████████████████▌        | 81kB 5.0MB/s eta 0:00:01\r\u001b[K     |██████████████████████████▍     | 92kB 5.2MB/s eta 0:00:01\r\u001b[K     |█████████████████████████████▍  | 102kB 4.3MB/s eta 0:00:01\r\u001b[K     |████████████████████████████████| 112kB 4.3MB/s \n",
            "\u001b[?25hRequirement already satisfied: lxml in /usr/local/lib/python3.7/dist-packages (from ebooklib) (4.2.6)\n",
            "Requirement already satisfied: six in /usr/local/lib/python3.7/dist-packages (from ebooklib) (1.15.0)\n",
            "Building wheels for collected packages: ebooklib\n",
            "  Building wheel for ebooklib (setup.py) ... \u001b[?25l\u001b[?25hdone\n",
            "  Created wheel for ebooklib: filename=EbookLib-0.17.1-cp37-none-any.whl size=38165 sha256=1623ccc2641f8ac2fe0ab5b69509c68d9210c7893396ff53d6f4df30de9a6a0c\n",
            "  Stored in directory: /root/.cache/pip/wheels/84/11/01/951369cbbf8f96878786a1f4da68bd7ac19a5d945b38e03d54\n",
            "Successfully built ebooklib\n",
            "Installing collected packages: ebooklib\n",
            "Successfully installed ebooklib-0.17.1\n",
            "drive  sample_data  writemdict\n",
            "Cloning into 'writemdict'...\n",
            "remote: Enumerating objects: 12, done.\u001b[K\n",
            "remote: Counting objects: 100% (12/12), done.\u001b[K\n",
            "remote: Compressing objects: 100% (11/11), done.\u001b[K\n",
            "remote: Total 12 (delta 0), reused 7 (delta 0), pack-reused 0\u001b[K\n",
            "Unpacking objects: 100% (12/12), done.\n",
            "Requirement already satisfied: beautifulsoup4 in /usr/local/lib/python3.7/dist-packages (4.6.3)\n"
          ],
          "name": "stdout"
        }
      ]
    },
    {
      "cell_type": "code",
      "metadata": {
        "id": "1HUfntVE4ITH",
        "colab": {
          "base_uri": "https://localhost:8080/"
        },
        "outputId": "630f38ea-d44b-417b-ef35-90a49a15eadd"
      },
      "source": [
        "bookid: int = 1\r\n",
        "book = epub.read_epub(f'./drive/MyDrive/mdict/tibet/{str(bookid)}.epub')\r\n",
        "all_items = book.get_items()\r\n",
        "for i in all_items:\r\n",
        "  print(i.get_name())"
      ],
      "execution_count": 10,
      "outputs": [
        {
          "output_type": "stream",
          "text": [
            "CoverImage.xhtml\n",
            "Gomde-Tsikzoe-Chenmo-Book-1-EPUB.xhtml\n",
            "toc.ncx\n",
            "css/idGeneratedStyles.css\n",
            "font/AGaramondPro-Regular.otf\n",
            "font/Cambria.ttf\n",
            "font/DevanagariSangamMN.ttc\n",
            "font/MicrosoftHimalaya.ttf\n",
            "font/MonlamUniOuChan1.ttf\n",
            "font/MonlamUniOuChan2.ttf\n",
            "font/MonlamUniOuChan4.ttf\n",
            "font/Thonburi.ttc\n",
            "font/TimesNewRomanPSMT.ttf\n",
            "image/Image684.png\n",
            "image/Image849.png\n",
            "image/Image862.png\n",
            "image/Image874.png\n",
            "image/Image885.png\n",
            "image/Image897.png\n",
            "image/Image910.png\n",
            "image/Image921.png\n",
            "image/Image960.png\n",
            "image/rndtt205002.jpg\n",
            "image/rndtt205002༢.jpg\n"
          ],
          "name": "stdout"
        }
      ]
    },
    {
      "cell_type": "code",
      "metadata": {
        "id": "N4PFwKGD4__P"
      },
      "source": [
        "docs = book.get_items_of_type(ebooklib.ITEM_DOCUMENT)\r\n",
        "xmls = []\r\n",
        "for item in book.get_items():\r\n",
        "    if item.get_type() == ebooklib.ITEM_DOCUMENT:\r\n",
        "      # print('==================================')\r\n",
        "      # print('NAME : ', item.get_name())\r\n",
        "      xmls.append(item.get_content().decode(\"utf-8\"))"
      ],
      "execution_count": 4,
      "outputs": []
    },
    {
      "cell_type": "code",
      "metadata": {
        "id": "Nmv98F475LM4"
      },
      "source": [
        "xml = xmls[1]"
      ],
      "execution_count": 11,
      "outputs": []
    },
    {
      "cell_type": "code",
      "metadata": {
        "id": "O5l1mjXW973g"
      },
      "source": [
        "# DEBUG\r\n",
        "f = open(\"xml.html\", \"x\")\r\n",
        "f.write(xml)\r\n",
        "f.close()"
      ],
      "execution_count": 6,
      "outputs": []
    },
    {
      "cell_type": "code",
      "metadata": {
        "id": "mmoxojK-5trR"
      },
      "source": [
        "s = BeautifulSoup(xml)"
      ],
      "execution_count": 12,
      "outputs": []
    },
    {
      "cell_type": "code",
      "metadata": {
        "id": "gc_y_fU67NpB"
      },
      "source": [
        ""
      ],
      "execution_count": null,
      "outputs": []
    },
    {
      "cell_type": "code",
      "metadata": {
        "colab": {
          "base_uri": "https://localhost:8080/"
        },
        "id": "uqi7Mu276Cg3",
        "outputId": "b9c9c468-a1de-4450-9232-cefd78609d96"
      },
      "source": [
        "ps = s.select('p[class^=གཞུང་སྤྱི།_ཚིག་མཛོད]',)\r\n",
        "ps[1:54]"
      ],
      "execution_count": 32,
      "outputs": [
        {
          "output_type": "execute_result",
          "data": {
            "text/plain": [
              "[<p class=\"གཞུང་སྤྱི།_ཚིག་མཛོད་ཀྱི་གཞུང་དངོས།\">ཀཿ  <span class=\"CharOverride-10\">(</span><span class=\"CharOverride-13\">ལེགས་སྦྱར</span><span class=\"CharOverride-10\">)</span> <span class=\"CharOverride-10\" xml:lang=\"en-US\">1</span> ཀླད་ཀོར་ཉིས་བརྩེགས་ཅན་དེ་ལ་རྣམ་བཅད་ཟེར། ཀློག་ཚུལ་ནི། ཕལ་ཆེར་ས་རུ་བཀླག་སྟེ། དཔེར་ན་ན་མཿ ཞེས་པ་ལ། ན་མས་དང་། ཡང་ན། ས་མ་ཡིན་པ་ལ་དྲག་པོར་ལྡུམས་ལྡུམས་བཅད་ནས་འདོད་དགོས་པ། དཔེར་ན་ཨཿ དང་། ཕཊཿལྟ་བུའོ། །<span class=\"CharOverride-10\" xml:lang=\"en-US\">2</span> རིང་ཆ་མཚོན་པའི་ཡི་གེ་ཞིག ས་ཧ་ཀཱ་རཿཞེས་པ་ལྟ་བུ། ར་ཡིག་ལ་རྣམ་བཅད་ཡོད་པས་གདངས་རིང་པོས་བཀླག་དགོས། </p>,\n",
              " <p class=\"གཞུང་སྤྱི།_ཚིག་མཛོད་ཀྱི་གཞུང་དངོས།\">ཀ་ཀ་ནི།  <span class=\"CharOverride-10\">(</span><span class=\"CharOverride-13\">ལེགས་སྦྱར</span><span class=\"CharOverride-10\">)</span> <span class=\"CharOverride-10\" xml:lang=\"en-US\">1</span> འགྲོན་བུའི་མིང་། <span class=\"CharOverride-10\" xml:lang=\"en-US\">2</span> འགྲོན་བུ་ཉི་ཤུའི་རིན་ཐང་གི་ཚད། པོ་ཏི་ཡང་ཟེར། འདུལ་བ་གཞི་རྒྱ་ཆེར་འགྲེལ་ལས་བཤད། ཀ་ཀ་ནི་ཞེས་པ་ལེགས་སྦྱར་ཅུང་ཟད་ཟུར་ཆག་པར་སྙམ་སྟེ། ལེགས་སྦྱར་དུ་ <span class=\"CharOverride-17\">काकिनी</span><span class=\"CharOverride-10\">-</span><span class=\"CharOverride-17\">णी</span> <span class=\"CharOverride-10\">“</span>ཀཱ་ཀ་ནི<span class=\"CharOverride-10\">”</span> འམ། <span class=\"CharOverride-10\">“</span>ཀཱ་ཀ་ཎི<span class=\"CharOverride-10\">”</span> ཞེས་འབྱུང་བ་དེའོ། །དབྱིན་སྐད་དུ་ <span class=\"CharOverride-10\">cowrie</span> ཟེར། དབྱིན་སྐད་ཀྱི་ཀོ་རི་ཞེས་པའང་ཧིན་སྐད་ཀྱི་ <span class=\"CharOverride-10\">Kauri</span><span class=\"CharOverride-18\"> </span> <span class=\"CharOverride-17\">कौड़ी</span><span class=\"CharOverride-19\"> </span>ཀཽ་ཌི་ཟུར་ཆག་པའོ། །རང་གི་རྣམ་བཤད་ལས། ཀ་ཀ་ནི་ཞེས་བྱ་བ་ནི་བོ་དྷི་ཀ་སྟེ། འགྲོན་བུ་ཉི་ཤུའི་རིན་ཐང་གི་མིང་ངོ་། །ཞེས་གསུངས་སོ། ། </p>,\n",
              " <p class=\"གཞུང་སྤྱི།_ཚིག་མཛོད་ཀྱི་གཞུང་དངོས།\">ཀཱ་ཀི་ནཱི།  <span class=\"CharOverride-10\">(</span><span class=\"CharOverride-13\">ལེགས་སྦྱར</span><span class=\"CharOverride-10\">)</span> ཀ་ཀ་ནི་དང་འདྲ།</p>,\n",
              " <p class=\"གཞུང་སྤྱི།_ཚིག་མཛོད་ཀྱི་གཞུང་དངོས།\">ཀ་ཀོ་ལ།  <span class=\"CharOverride-10\">(</span><span class=\"CharOverride-13\">ལེགས་སྦྱར</span><span class=\"CharOverride-10\">)</span> ཀཀྐོ་ལ་དང་འདྲ། </p>,\n",
              " <p class=\"གཞུང་སྤྱི།_ཚིག་མཛོད་ཀྱི་གཞུང་དངོས།\">ཀཱ་ཀོ་ལ།  <span class=\"CharOverride-10\">(</span><span class=\"CharOverride-13\">ལེགས་སྦྱར</span><span class=\"CharOverride-10\">)</span> <span class=\"CharOverride-10\" xml:lang=\"en-US\">1</span> བྱ་རོག་ཆེན་པོ། ཞེས་འཕགས་བོད་སྐད་གཉིས་ཤན་སྦྱར་གསེར་གྱི་ཕྲེང་མཛེས་ལས་བཤད། <span class=\"CharOverride-10\" xml:lang=\"en-US\">2</span> སྨན་ཟླ་བའི་བྱེ་མ། <span class=\"CharOverride-10\" xml:lang=\"en-US\">3</span> བྱ་རོག་གི་རྐང་པ་འདྲ་བའི་དུག་རིགས་ཤིག དུག་རིགས་དགུའི་བྱེ་བྲག་ཅིག <span class=\"CharOverride-10\" xml:lang=\"en-US\">4</span> ཀཀྐོ་ལ་དང་འདྲ།</p>,\n",
              " <p class=\"གཞུང་སྤྱི།_ཚིག་མཛོད་ཀྱི་གཞུང་དངོས།\">ཀ་སྒྲོགས། ཆུར་སྒྲོགས་ཏེ་ཆུ་བྱ་ཞིག སྒྲ་བཤད་ནི། ཀ་ཞེས་པའི་སྒྲ་འབོད་པས་ཀ་སྒྲོགས་ཞེས་མིང་ཐོགས་པ་འདྲ་ཞེས་གསུང་མཁན་ཡོད། འདི་ལ་ཆུར་སྒྲོགས་ཞེས་པ་ནི། ཆུ་ལ་གནས་ནས་སྒྲ་སྒྲོགས་པས་ན་ཆུར་སྒྲོགས་ཞེས་ཟེར་བ་ཡིན་ནམ་སྙམ།</p>,\n",
              " <p class=\"གཞུང་སྤྱི།_ཚིག་མཛོད་ཀྱི་གཞུང་དངོས།\">ཀ་ཆེན་བཞི། <span class=\"CharOverride-10\" xml:lang=\"en-US\">1</span> འགོས་ཁུག་པ་ལྷས་བཙས་ཀྱི་སློབ་མའི་གཙོ་བོ་སྟེ། ཀ་ཆེན་བཞི་ནི། འཇད་བསོ་རོང་མར་སྟོན་སེང་རྒྱལ། ཆབས་ལྷ་ཁང་གི་སུམ་སྟོན་ཡེ་འབར། ཤངས་ཀྱི་ངབ་སྟོན་བྱང་ཆུབ་རྒྱལ་མཚན། གཉལ་གྱི་ཤེ་སྟོན་རྡོ་རྗེ་རྒྱལ་མཚན་དང་བཞིའོ། །བུ་སྟོན་རིན་པོ་ཆེའི་གསང་འདུས་ཆོས་འབྱུང་ལས་གསུངས་པ་ལྟར་རོ། །<span class=\"CharOverride-10\" xml:lang=\"en-US\">2</span> བཀའ་བབས་ཀྱི་སློབ་མ་བཞི་དང་དོན་གཅིག བཀའ་བབས་ཀྱི་སློབ་མ་བཞི་ལ་གཟིགས། </p>,\n",
              " <p class=\"གཞུང་སྤྱི།_ཚིག་མཛོད་ཀྱི་གཞུང་དངོས།\">ཀ་ཆེན་བརྒྱད།  <span class=\"CharOverride-10\">(</span>བློ་སྦྱོང<span class=\"CharOverride-10\">)</span> པོ་ཏོ་བའི་མཐའ་ཀ་ཆེན་བརྒྱད་ལ་གཟིས།</p>,\n",
              " <p class=\"གཞུང་སྤྱི།_ཚིག་མཛོད་ཀྱི་གཞུང་དངོས།\">ཀ་ཏན། རས་དཀར་ཞིག </p>,\n",
              " <p class=\"གཞུང་སྤྱི།_ཚིག་མཛོད་ཀྱི་གཞུང་དངོས།\">ཀ་ཏོ་ར།  <span class=\"CharOverride-10\">(</span>རྒྱ་གར་སྐད<span class=\"CharOverride-10\">)</span> ལྕགས་ཟངས་སོགས་ལས་བཟོས་པའི་གཞོང་པའི་མིང་། རྒྱ་གར་བས་  <span class=\"CharOverride-10\">(</span><span class=\"CharOverride-17\">कतोर</span><span class=\"CharOverride-10\">)</span> ཟེར། ཀ་ཊོ་ར་ཡང་འཐད་པར་བཤད། </p>,\n",
              " <p class=\"གཞུང་སྤྱི།_ཚིག་མཛོད་ཀྱི་གཞུང་དངོས།\">ཀ་ཊོ་ར། ཀ་ཏོ་ར་དང་འདྲ། </p>,\n",
              " <p class=\"གཞུང་སྤྱི།_ཚིག་མཛོད་ཀྱི་གཞུང་དངོས།\">ཀ་བསྟོད། འཇམ་དཔལ་གཤིན་རྗེ་གཤེད་ཀྱི་བཀའ་སྡོད་དམ་ཅན་ཆོས་ཀྱི་རྒྱལ་པོ་ལ་བསྟོད་པ་བདུད་དཔུང་འཇོམས་པ་ཞེས་བྱ་བ། རྗེ་དགེ་འདུན་པ་དཔལ་བཟང་པོས་མཛད། ཧཱུྃ། ཀཱ་ལ་རཱུ་པ་རབ་བརྗིད་དྲག་པོའི་སྐུ། །ཁ་ནས་ཁྲག་འཛག་མི་མགོའི་ཕྲེང་བ་ཡི། །ག་ཤ་རབ་འཕྱང་མི་བཟད་བདུད་དཔུང་གི །ང་རྒྱལ་དྲེགས་པ་འཇོམས་པ་ཁྱོད་ལ་བསྟོད། །ཅེས་སོགས་ཀྱི་བསྟོད་པ་འདི་ཡིན་ནོ། །འདི་རྗེ་དགེ་འདུན་གྲུབ་ཀྱི་གསུང་ཐོར་བུ་༡༤བ༧ན་བཞུགས་སོ། །</p>,\n",
              " <p class=\"གཞུང་སྤྱི།_ཚིག་མཛོད་ཀྱི་གཞུང་དངོས།\">ཀ་བསྟོད་མ་བསྟོད། དམ་ཅན་ཆོས་རྒྱལ་ཡབ་ཡུམ་གྱི་བསྟོད་པ་སྟེ། ཧཱུྃ། ཀཱ་ལ་་རཱུ་པ་རབ་བརྗིད་དྲག་པོའི་སྐུ། །ཞེས་སོགས་དམ་ཅན་ཆོས་རྒྱལ་གྱི་བསྟོད་པ་དང་། བྷྱོཿ མ་སྐྱེས་མ་འགག་ཆོས་དབྱིངས་ཀློང་ཡངས་ནས། །ཞེས་སོགས་དེའི་ཡུམ་གྱི་བསྟོད་པ་གཉིས་ལ་ཟེར། རྗེ་དགེ་འདུན་གྲུབ་ཀྱིས་མཛད།  </p>,\n",
              " <p class=\"གཞུང་སྤྱི།_ཚིག་མཛོད་ཀྱི་གཞུང་དངོས།\">ཀ་དག སྟོང་ཉིད་ཀྱི་མིང་གི་རྣམ་གྲངས་ཤིག སྒྲ་བཤད་ནི། ཀ་ནས་དག་པ་སྟེ་གདོད་མ་ནས་རང་བཞིན་གྱིས་གྲུབ་པས་དག་པའམ་སྟོང་པས་ན་དེ་སྐད་ཅེས་བྱའོ། །</p>,\n",
              " <p class=\"གཞུང་སྤྱི།_ཚིག་མཛོད་ཀྱི་གཞུང་དངོས།\">ཀཱ་དམ་པ།  <span class=\"CharOverride-10\">(</span><span class=\"CharOverride-13\">ལེགས་སྦྱར</span><span class=\"CharOverride-10\">)</span> ཀཱདམྤ་དང་དོན་འདྲ།</p>,\n",
              " <p class=\"གཞུང་སྤྱི།_ཚིག་མཛོད་ཀྱི་གཞུང་དངོས།\">ཀཱ་དམྤ།  <span class=\"CharOverride-10\">(</span><span class=\"CharOverride-13\">ལེགས་སྦྱར</span><span class=\"CharOverride-10\">)</span> <span class=\"CharOverride-10\" xml:lang=\"en-US\">1</span> ཆུ་སྐྱར། ཡོངས་གྲགས་སུ་ངང་པ་ཟེར་བའི་སྐེ་དང་རྐང་པ་ཐུང་བའི་ཆུ་བྱ་དེའི་མིང་། དབྱིན་སྐད་དུ <span class=\"CharOverride-10\">duck</span><span class=\"CharOverride-18\"> </span>ཟེར་བ་དེའོ། །བོད་སྐད་དུ་བསྒྱུར་ན། ཆུ་སྐྱར་ཞེས་བྱ། ༧རྒྱལ་མཆོག་ལྔ་པ་ཆེན་པོ་སོགས་མཁས་པ་མང་པོས་མཐིང་རིལ་གྱི་མིང་དུ་བཤད། མཐིང་རིལ་ལ་གཟིགས། ལེགས་སྦྱར་དུ་ཀལ་ཧཾས་<span class=\"CharOverride-17\">कलहंस</span><span class=\"CharOverride-19\">ः</span>དང་། ཀཱདམྤ་<span class=\"CharOverride-17\">कादंब</span><span class=\"CharOverride-19\">ः</span>ཟེར། དེང་སང་གསར་དུ་བསྒྲིགས་པའི་རི་མོ་ཅན་གྱི་ཚིག་མཛོད་ཅིག་ནང་། ཆུ་སྐྱར་ཞེས་པ་ཆུ་བྱ་<span class=\"CharOverride-10\">“</span>སཱིགྷལ<span class=\"CharOverride-10\">”</span> <span class=\"CharOverride-10\">seagull</span> ཞེས་པ་དེའི་མིང་དུ་བྱས་པ་ནི་ལེགས་པར་མ་མཐོང་སྟེ། མངོན་བརྗོད་འཆི་མེད་མཛོད་ཀྱི་འགྲེལ་པ་འདོད་འཇོ་བ་མོ་ལས། ཀཱདམྤ་དང་། ཀལ་ཧཾས་ནི་ཆུ་སྐྱར་རོ། །ཞེས་གསལ་བར་གསུངས་པའི་ཕྱིར་རོ། ། <span class=\"CharOverride-10\">Apte</span><span class=\"CharOverride-18\"> </span><span class=\"CharOverride-10\">English</span><span class=\"CharOverride-18\"> </span><span class=\"CharOverride-10\">Sanskrit</span><span class=\"CharOverride-18\"> </span><span class=\"CharOverride-10\">dictionary</span><span class=\"CharOverride-18\"> </span>ཞེས་པའི་དབྱིན་སཾ་ཤན་སྦྱར་གྱི་ཚིག་མཛོད་ནང་། ཀལ་ཧཾས་<span class=\"CharOverride-17\">कलहंस</span><span class=\"CharOverride-19\">ः</span>དང་། ཀཱདམྤ་<span class=\"CharOverride-17\">कादंब</span><span class=\"CharOverride-19\">ः</span>གཉིས་<span class=\"CharOverride-10\">duck</span> ངང་པའི་མིང་དུ་བཤད་དོ། །<span class=\"CharOverride-10\" xml:lang=\"en-US\">2</span> ཤིང་ཚོགས་ཅན། </p>,\n",
              " <p class=\"གཞུང་སྤྱི།_ཚིག་མཛོད་ཀྱི་གཞུང་དངོས།\">ཀ་དར་སྒྲོག མཛད་སྒོ་གྲོལ་ཁར་རྟེན་འབྲེལ་གྱི་སླད་ཀ་བ་ལ་ཁ་བཏགས་འདོགས་པ་ལ་ཟེར་ཏེ། སྣར་སྐྱིད་ངག་དབང་དོན་གྲུབ་ལགས་ཀྱིས་བརྩམས་པའི་༸རྒྱལ་མཆོག་སྐུ་འཕྲེང་བཅུ་གསུམ་པ་ཆེན་པོའི་མཛད་རྣམ་ལས། མཛད་སྒོའི་རིམ་པ་རྣམས་གྲུབ་ནས་ཚོགས་གྲོལ་ཁར་རྟེན་འབྲེལ་གྱི་སླད་ཚོམས་ཆེན་ནམ་འདུ་ཁང་གི་ཀ་རིང་མདུན་མ་གཉིས་ལ་མཇལ་དར་འདོགས་པ་ལ་ཟེར། ཀ་བ་ཕྲ་བའི་རིགས་ལ་ཀ་དར་འཆིང་ཞེས་འབྲི་དགོས་པར་བཤད་དོ། །</p>,\n",
              " <p class=\"གཞུང་སྤྱི།_ཚིག་མཛོད་ཀྱི་གཞུང་དངོས།\">ཀ་དྲུ། <span class=\"CharOverride-10\">(</span><span class=\"CharOverride-13\">འདུལ་བ</span><span class=\"CharOverride-10\">)</span> ཚོན་གྱི་བྱེ་བྲག་ཅིག་གི་མིང་ཡིན་པར། རྒྱ་གར་གྱི་སློབ་དཔོན་ཚུལ་ཁྲིམས་བསྐྱངས་གསུང་།</p>,\n",
              " <p class=\"གཞུང་སྤྱི།_ཚིག་མཛོད་ཀྱི་གཞུང་དངོས།\">ཀ་ན་ཀ། <span class=\"CharOverride-10\">(</span>རྒྱ་གར་སྐད<span class=\"CharOverride-10\">)</span> པཱ་ལཱ་ཤ་དང་འདྲ།</p>,\n",
              " <p class=\"གཞུང་སྤྱི།_ཚིག་མཛོད་ཀྱི་གཞུང་དངོས།\">ཀ་ནི་ཀའི་སྤྲིངས་ཡིག རྒྱལ་པོ་ཀ་ནིསྐ་ལ་སྤྲིངས་པའི་སྤྲིང་ཡིག་ཅེས་བྱ་བ་སློབ་དཔོན་དཔའ་བོས་མཛད། རྒྱ་གར་སྐད་དུ། མཧཱ་རཱ་ཛ་ཀ་ནིསྐ་ལེ་ལ་ཞེས་བྱའོ། །འདི་འཇམ་དཔལ་རྩ་རྒྱུད་ནས་ལུང་བསྟན་པའི་ཁ་ཆེའི་རྒྱལ་པོ་ཀཱ་ནི་ཀ་ཞེས་བྱ་བས། སློབ་དཔོན་དཔའ་བོ་མཆོད་གནས་སུ་སྤྱན་དྲངས་པའི་ཚེ་སྐུ་ན་བགྲེས་པས་འབྱོན་མ་ཐུབ་པར། སྤྲིངས་ཡིག་འདི་བརྩམས་ནས་བསྐུར་ཏེ་རྒྱལ་པོ་ཆོས་ལ་བཀོད་པ་ཡིན་ཚུལ་གསུང་ངོ་། །འདི་སྡེ་དགེ་བསྟན་འགྱུར་༼ ངེ་པ ༽སྐྱེས་རབས་དང་ལྷན་དུ་ཤོག་གྲངས་༥༣ན༦ན་བཞུགས་སོ། །</p>,\n",
              " <p class=\"གཞུང་སྤྱི།_ཚིག་མཛོད་ཀྱི་གཞུང་དངོས།\">ཀ་ཎ་ཡ། <span class=\"CharOverride-10\">(</span><span class=\"CharOverride-13\">ལེགས་སྦྱར</span><span class=\"CharOverride-10\">)</span> <span class=\"CharOverride-10\" xml:lang=\"en-US\">1</span> གདུང་ཕྱེད་པའི་རྣམ་པར་བཤད་པ་ཡོད་ཀྱང་། རྡོ་རྗེ་རྩེ་གཅིག་པའི་རྣམ་པའོ། །ཞེས་རྗེ་ཙོང་ཁ་པའི་གསུང་ཟིན་བྲིས་འཇིགས་བྱེད་ཀྱི་ཕྱག་མཚན་སོགས་ཀྱི་བཤད་པ་ལས་གསུངས། <span class=\"CharOverride-10\" xml:lang=\"en-US\">2</span> ཀ་ཎ་ཡ་ནི་གདུང་ལ་ཞགས་པ་བཏགས་པའི་ཞགས་གདུང་དུ་གྲགས་པ་དེའོ། །</p>,\n",
              " <p class=\"གཞུང་སྤྱི།_ཚིག་མཛོད་ཀྱི་གཞུང་དངོས།\">ཀ་ཎི། <span class=\"CharOverride-10\">(</span><span class=\"CharOverride-13\">ལེགས་སྦྱར</span><span class=\"CharOverride-10\">)</span> མཁས་པ་མང་པོས་མཆོད་རྟེན་གྱི་མིང་ཡིན་པར་བཤད། ཀ་ཎི་ཞེས་པའི་སྐོར་ལ། དགེ་བཤེས་ <span class=\"CharOverride-10\">(</span>ཁུ་ནུ་བླ་མ<span class=\"CharOverride-10\">)</span> བསྟན་འཛིན་རྒྱལ་མཚན་རིན་པོ་ཆེས་སྔར་མཆོད་རྟེན་ནས་སྒོ་ལམ་ཡོད་པ་དེ་ཚོའི་ཡས་སྒོ་ལ་མི་འཁྲུགས་པའི་དཀྱིལ་འཁོར་དང་། གཟུངས་སྔགས་ཀཾ་ཀ་ནི་བྲིས་ཡོད་པ་དག་ལས། ཕྱིས་མཆོད་རྟེན་སྒོ་ལམ་ཡོད་པ་ཚང་མར་མིང་དེ་འཇགས་པ་མིན་ནམ་གསུངས་པ་དང་། སྐྱབས་རྗེ་བདུད་འཇོམས་རིན་པོ་ཆེས་རྒྱ་གར་བས་མཆོད་རྟེན་རྣམས་ལ་ཀ་ཎི་ཟེར་བ་རེད་ཅེས་གསུངས། ཞེས་ཞྭ་སྒབ་པའི་རྒྱལ་རབས་ན་གསལ་བ་ལྟར་རོ། །</p>,\n",
              " <p class=\"གཞུང་སྤྱི།_ཚིག་མཛོད་ཀྱི་གཞུང་དངོས།\">ཀ་པཱ་ལ། <span class=\"CharOverride-10\">(</span><span class=\"CharOverride-13\">ལེགས་སྦྱར</span><span class=\"CharOverride-10\">)</span> <span class=\"CharOverride-10\" xml:lang=\"en-US\">1</span> ཐོད་རུས། <span class=\"CharOverride-10\" xml:lang=\"en-US\">2</span> མིའི་ཐོད་རུས་ལས་བཟོས་པའི་སྣོད་ཅིག ངེས་ཚིག་ནི་བདེ་སྐྱོང་སྟེ། ཀཾ་དང་པཱ་ལ་གཉིས་སོ་སོར་བཤད་ན། ཀཾ་བདེ་བ་དང་། པཱ་ལ་སྐྱོང་བ་ལ་བཤད་ས་ཡོད་པ་རྗེའི་སྔགས་རིམ་ཆེན་མོར་གསུངས།</p>,\n",
              " <p class=\"གཞུང་སྤྱི།_ཚིག་མཛོད་ཀྱི་གཞུང་དངོས།\">ཀ་པ་ལཱི། <span class=\"CharOverride-10\">(</span><span class=\"CharOverride-13\">ལེགས་སྦྱར</span><span class=\"CharOverride-10\">)</span> ཐོད་པ་ཅན། འཕགས་བོད་སྐད་གཉིས་ཤན་སྦྱར་གསེར་གྱི་ཕྲེང་མཛེས་ན་གསལ།</p>,\n",
              " <p class=\"གཞུང་སྤྱི།_ཚིག་མཛོད་ཀྱི་གཞུང་དངོས།\">ཀཔ་ལི། ཐོད་རུས་ཏེ། ལེགས་སྦྱར་གྱི་ཀ་པཱ་ལ་ཟུར་ཆག </p>,\n",
              " <p class=\"གཞུང་སྤྱི།_ཚིག་མཛོད་ཀྱི་གཞུང་དངོས།\">ཀཔིལ་བསྟུ། <span class=\"CharOverride-10\">(</span><span class=\"CharOverride-13\">ལེགས་སྦྱར</span><span class=\"CharOverride-10\">)</span> <span class=\"CharOverride-10\">(</span><span class=\"CharOverride-13\">འདུལ་བ</span><span class=\"CharOverride-10\">)</span> སེར་སྐྱའི་གྲོང་ཁྱེར། ལུམྦི་ནིའི་ནུབ་ཕྱོགས་མེ་ལི་ལྔ་དྲུག་ཙམ་ན་ <span class=\"CharOverride-10\">“</span>ཀཔིལ་བསྟུ<span class=\"CharOverride-10\">”</span> སེར་སྐྱའི་གྲོང་ཁྱེར་གྱི་ཤུལ་ཡོད་ཅིང་། དེང་སང་མིང་ལ་<span class=\"CharOverride-10\">Tilaurakot</span><span class=\"CharOverride-18\"> </span><span class=\"CharOverride-10\">“</span>ཏི་ལོ་ར་ཀོ་ཊི<span class=\"CharOverride-10\">”</span> ཟེར་ཞེས་མཁས་དབང་དགེ་འདུན་ཆོས་འཕེལ་<br/>གསུང་། སེར་སྐྱའི་གྲོང་ཁྱེར་ཞེས་པར་གཟིགས། </p>,\n",
              " <p class=\"གཞུང་སྤྱི།_ཚིག་མཛོད་ཀྱི་གཞུང་དངོས།\">ཀ་སྤུ་ར། <span class=\"CharOverride-10\">(</span><span class=\"CharOverride-13\">ལེགས་སྦྱར</span><span class=\"CharOverride-10\">)</span> <span class=\"CharOverride-10\" xml:lang=\"en-US\">1</span> ག་པུར། <span class=\"CharOverride-10\" xml:lang=\"en-US\">2</span> ཐིག་ལེ། ཁམས་དཀར་པོ། ཐིག་ལེ་ལ་ཀ་སྤུ་ར་ཞེས་པ་ནི་ཁ་དོག་དཀར་པོའི་ཆ་ནས་བཏགས་སོ། ། </p>,\n",
              " <p class=\"གཞུང་སྤྱི།_ཚིག་མཛོད་ཀྱི་གཞུང་དངོས།\">ཀ་བ་ཤིང་ལོ་ཅན། ར་ས་འཕྲུལ་སྣང་གཙུག་ལག་ཁང་ངམ་ཡོངས་གྲགས་སུ་ཇོ་ཁང་དུ་འབོད་པ་དེའི་ནང་གི་ཀ་བ་ཞིག དེའི་འོག་ཏུ་ཆོས་རྒྱལ་སྲོང་བཙན་སྒམ་པོས་གསེར་དངུལ་གྱི་གཏེར་མང་པོ་སྦས་ཡོད་ཟེར། ཀ་བའི་རྩེ་མོར་ཤིང་ལོའི་རི་མོའི་རྐོས་བརྒྱབ་ཡོད་པས་ཤིང་ལོ་ཅན་ཞེས་གྲགས། ཇོ་ཁང་ནང་གི་ཤིང་གི་ཀ་བ་དེ་དག་ཤིན་ཏུ་ངོ་མཚར་ཆེ་བའི་སྐོར་ཟླ་བ་ཁོལ་<span class=\"CharOverride-10\">Sarat</span><span class=\"CharOverride-18\"> </span><span class=\"CharOverride-10\">Chandra</span><span class=\"CharOverride-18\"> </span><span class=\"CharOverride-10\">Das</span><span class=\"CharOverride-18\"> </span>གྱིས་<span class=\"CharOverride-10\">«</span>ལྷ་ས་དང་བོད་དབུས་སུ་འགྲིམ་འགྲུལ<span class=\"CharOverride-10\">»</span>ཞེས་པའི་དེབ་དེའི་༡༧༨ན་གསལ་ལོ། །</p>,\n",
              " <p class=\"གཞུང་སྤྱི།_ཚིག་མཛོད་ཀྱི་གཞུང་དངོས།\">ཀ་བ་སེང་མགོ་ཅན། ར་ས་འཕྲུལ་སྣང་གཙུག་ལག་ཁང་ངམ་ཡོངས་གྲགས་སུ་ཇོ་ཁང་དུ་འབོད་པ་དེའི་ནང་གི་ཀ་བ་ཞིག དེའི་འོག་ཏུ་ཆོས་རྒྱལ་སྲོང་བཙན་སྒམ་པོས་བོད་བསྟན་སྲིད་དང་གཞུང་དམངས་གནོད་པའི་བསམ་སྦྱོར་ངན་པ་ཞི་བའི་སྨོན་ཚིག་དང་རུས་གཏེར་སྦས་ཡོད་ཟེར། ཀ་བའི་རྩེ་མོར་སེང་གེའི་མགོའི་རི་མོའི་རྐོས་བརྒྱབ་ཡོད་པས་སེང་མགོ་ཅན་དུ་གྲགས། དེའི་སྐོར་ཟུར་ཙམ་ཞིག་ཟླ་བ་ཁོལ་<span class=\"CharOverride-10\">Sarat</span><span class=\"CharOverride-18\"> </span><span class=\"CharOverride-10\">Chandra</span><span class=\"CharOverride-18\"> </span><span class=\"CharOverride-10\">Das</span><span class=\"CharOverride-18\"> </span>གྱིས་<span class=\"CharOverride-10\">«</span>ལྷ་ས་དང་བོད་དབུས་སུ་འགྲིམ་འགྲུལ<span class=\"CharOverride-10\">»</span>ཞེས་པའི་དེབ་དེའི་༡༧༨ན་གསལ་ལོ། །</p>,\n",
              " <p class=\"གཞུང་སྤྱི།_ཚིག་མཛོད་ཀྱི་གཞུང་དངོས།\">ཀཱ་བེ་རི། <span class=\"CharOverride-10\">(</span><span class=\"CharOverride-13\">ལེགས་སྦྱར</span><span class=\"CharOverride-10\">)</span> རྒྱ་གར་གྱི་ཆུ་བོ་ཆེན་པོ་ཞིག་གི་མིང་། མདོ་དྲན་པ་ཉེར་གཞག་༼ ཤ་པ ༽ ༡༨༡བ༣ལས། ཀཱ་བེ་རི་ཞེས་བྱ་བའི་ཆུ་ཀླུང་ནི་ཤིང་རྣམས་ཐམས་ཅད་ཀྱིས་ཉེ་བར་མཛེས་པར་གྱུར་པ་སྟེ། རབ་ཏུ་དང་བའི་ཆུ་ཞེང་དུ་ནི་དཔག་ཚད་དོ། །རིང་དུ་གྱུར་པའི་ངོ་བོར་ནི་དཔག་ཚད་ལྔ་བརྒྱ་པ་ཡིན་ནོ། །ཞེས་གསུངས་སོ། །</p>,\n",
              " <p class=\"གཞུང་སྤྱི།_ཚིག་མཛོད་ཀྱི་གཞུང་དངོས།\">ཀ་མ་བ། བཀའ་གདམས་པའི་དགེ་བཤེས་ཀ་མ་བ་ཤེས་རབ་འོད་ཅེས་བྱ་བ་དེའོ། །དམ་པ་དེ་ཉིད་རྣལ་འབྱོར་གྱི་དབང་ཕྱུག་དགོན་པ་བའི་དངོས་སློབ་གྲགས་ཅན་བཞི་ཡོད་པའི་ཡ་གྱལ་ཞིག་ཡིན་ལ། <span class=\"CharOverride-10\">(</span>དགོན་པ་བའི་དངོས་སློབ་གྲགས་ཅན་བཞི་ནི། ཞང་སྣེའུ་ཟུར་པ་ཡེ་ཤེས་འབར། དགེ་བཤེས་ཀ་མ་བ་ཤེས་རབ་འོད། མཉན་སྣ་མོ་བ། དགེ་བཤེས་འབན་གུང་རྒྱལ་དང་བཞིའོ<span class=\"CharOverride-10\">)</span> ཇོ་བོ་རྗེ་ལན་པ་སྤྱིལ་བུར་ཕེབས་དུས། ཡུམ་དེས་ཇོ་བོ་ལ་བྱིན་རླབས་ཞུས་པས། འདི་ལ་བུ་བཟང་པོ་ཞིག་འོང་གསུངས་ནས་ལུང་བསྟན་པ་བཞིན་ལན་པ་མདར་མེ་མོ་བྱ་ལ་སྐུ་འཁྲུངས། རབ་ཏུ་བྱུང་བའི་མཚན་ཤེས་རབ་འོད། ཕྱིས་དགོན་པ་བ་དང་མཇལ་དུ་བྱོན་པས་དགོན་པ་བས་ཆོས་དང་ཟང་ཟིང་གཉིས་ཀས་བསྐྱངས། མངོན་པར་རྟོགས་པའི་ཡོན་ཏན་ཡང་ཚད་མེད་པ་དང་ལྡན་པ་ཡིན། ཐུགས་རབ་ཀྱང་ཤིན་ཏུ་ཆེ། རྟོག་གེ་འབར་བ་ནག་ཚོས་བསྒྱུར་བ་ལས་རྣལ་འབྱོར་སྤྱོད་པ་བའི་དེ་ཁོ་ཉིད་གཏན་ལ་དབབ་པའི་ལེའུ་ལ་འགྱུར་བཅོས་མཛད་པ་པོའི་མཁས་བཙུན་ཤེས་རབ་འོད་གསལ་གཉིས་ཀྱིས་བསྒྱུར་ཟེར་བའི་ཡ་གཅིག་ཀྱང་ཁོང་ཡིན་པ་འདྲའོ། །དེས་ཀ་མ་དགོན་པ་བཏབ་པས་མཚན་ཡང་ཀ་མ་བར་གྲགས། གྲྭ་པ་ཡང་བདུན་བརྒྱ་ཙམ་འཚོགས། ཕྱི་རོལ་གྱི་དངོས་པོ་ངན་པ་རྣམས་བཟང་པོར་བསྒྱུར་ནུས་པའི་ཏིང་ངེ་འཛིན་བརྟན་པོ་འཁྲུངས། དགུང་གྲངས་བདུན་ཅུ་རྩ་ལྔ་པ་ལྕགས་མོ་ཕག་ལ་སྐུ་གཤེགས། ཞེས་དེབ་སྔོན་ལྟར་བཀོད། ཁོང་དགོན་པ་བའི་སློབ་མ་ཡིན་པ་རྗེའི་ལམ་རིམ་ཆེན་མོར་ཡང་ཟུར་ཙམ་གསལ་ལ་ལུང་འདྲེན་ཡང་ཐེངས་ལྔ་ཙམ་མཛད། འཁྲུངས་འདས་ལོ་ཚིགས། <span class=\"CharOverride-10\">(</span>༡༠༥༧<span class=\"CharOverride-10\">-</span>༡༡༣༡<span class=\"CharOverride-10\">)</span> ཡིན། འགའ་ཞིག་གིས། ལམ་རིམ་ཆེན་མོར་ཀ་མ་བ་ཞེས་འབྱུང་བ་དོན་ལ་ཀརྨ་པ་ལ་ཞུ་བ་ཡིན་ཀྱང་། ཀ་མ་བ་ཞེས་ཆོས་ལུགས་ཀྱི་ཞེན་པས་ཚིག་ལ་བསྒྱུར་བཅོས་བྱས་པ་རེད་ཟེར་བ་ནི་རང་གི་དེ་ཉིད་གསལ་བར་མཚོན་པ་ཡིན་ཏེ། དེའི་སྐོར་བཀའ་བརྒྱུད་ཀྱི་མཁས་གྲུབ་ཆེན་པོ་འགོས་ལོ་ཙཱ་བ་གཞོན་ནུ་དཔལ་གྱི་དེབ་སྔོན་དང་། ཡོངས་འཛིན་ཡེ་ཤེས་རྒྱལ་མཚན་གྱི་ལམ་རིམ་བླ་མ་བརྒྱུད་པའི་རྣམ་ཐར་སོགས་སུ་བལྟས་ན་ཤེས་སོ། །</p>,\n",
              " <p class=\"གཞུང་སྤྱི།_ཚིག་མཛོད་ཀྱི་གཞུང་དངོས།\">ཀཱ་མ་རཱུ་པ། <span class=\"CharOverride-10\">(</span><span class=\"CharOverride-13\">ལེགས་སྦྱར</span><span class=\"CharOverride-10\">)</span> <span class=\"CharOverride-17\">गुवाहाटी</span><span class=\"CharOverride-19\"> </span><span class=\"CharOverride-10\">Guwahati</span><span class=\"CharOverride-18\"> </span>གྷོ་ཧ་ཊི་དང་ཐག་མི་རིང་བའི་སར་ཡོད་པའི་མ་ཧཱ་མུ་ནི་བྱ་བ་དེ་ཡིན་པར་བཤད་དེ། དགེ་ཆོས་རྒྱ་གར་གནས་ཡིག་ལས། པརྦ་ཏི་པཱུར་ནས་གྷོ་ཧ་ཊི་བར་རི་ལི་དང་དེ་ནས་མེ་ལི་བཅུ་བདུན་སོང་ན་ཤར་རྩ་མཆོག་གྲོང་མ་ཧཱ་མུ་ནི་ཡོད། དེ་ནི་གནས་ཆེན་ཉེར་བཞིའི་ཡ་གྱལ་གྱི་ཀཱ་མ་ར<span class=\"CharOverride-20\">་རཱུ་</span>པ་ཡིན་འདུག་ཅིང༌། སྔོན་མདོ་སྔགས་གཉིས་ཀའི་བསྟན་པ་ཤིན་ཏུ་དར་བའི་གནས་ཡིན་ཞེས་གསལ། ཡང་། ཀོང་སྤྲུལ་ཡོན་ཏན་རྒྱ་མཚོའི་ཀྱེ་རྡོར་གྱི་འགྲེལ་པ་ལས། འདོད་པའི་གཟུགས་ཏེ་གཉལ་གྱི་ལྷོ་ཐད་རྒྱ་གར་ཤར་ཕྱོགས་ཆུ་བོ་ལོ་ཧི་ཏ་དཀྱིལ་ན་འབབ་པའི་ས་ཕྱོགས་ན་གྲོང་ཁྱེར་ཆེན་པོ་ཞིག་ཡོད་པའི་ཕྱོགས་ཤིག་ན་སྒྲུབ་གནས་རྡོའི་ལིང་ག་མཆན་ཁུང་ལྟ་བུས་མཚན་པའི་ཆོས་འབྱུང་མི་གང་ཙམ་གྱིས་མཐོ་བ་ཡོད་པ་ལ་བཞེད་ཅེས་གསལ།  </p>,\n",
              " <p class=\"གཞུང་སྤྱི།_ཚིག་མཛོད་ཀྱི་གཞུང་དངོས།\">ཀཱ་ཡ། <span class=\"CharOverride-10\">(</span><span class=\"CharOverride-13\">ལེགས་སྦྱར</span><span class=\"CharOverride-10\">)</span> སྐུ། ལུས། </p>,\n",
              " <p class=\"གཞུང་སྤྱི།_ཚིག་མཛོད་ཀྱི་གཞུང་དངོས།\">ཀ་ཡེ། འབོད་སྒྲ་ཞིག་སྟེ། རང་མཉམ་དང་རང་ལ་དམའ་བར་འབོད་པའི་ཚིག</p>,\n",
              " <p class=\"གཞུང་སྤྱི།_ཚིག་མཛོད་ཀྱི་གཞུང་དངོས།\">ཀྭ་ཡེ། ཀ་ཡེ་ཞེས་པའི་འབྲི་ཚུལ་གཞན། </p>,\n",
              " <p class=\"གཞུང་སྤྱི།_ཚིག་མཛོད་ཀྱི་གཞུང་དངོས།\">ཀ་ར། <span class=\"CharOverride-10\" xml:lang=\"en-US\">1</span> རོ་མངར་སྤྱིའི་མིང་། བྱེ་མ་ཀ་ར། ཤེལ་ཀ་ར་ཞེས་པ་ལྟ་བུ། <span class=\"CharOverride-10\" xml:lang=\"en-US\">2</span> ཡང་། ལི་ཁར། བུ་རམ་རྡོག་པོར་བྱས་པ་ལ་ཟེར། བོད་རྒྱ་ཚིག་མཛོད་ཆེན་མོ་དང་ཁོ་བོས་ཀྱང་སྤར་ཐེངས་དང་པོའི་ནང་ཚིག་འདི་ལེགས་སྦྱར་ཡིན་པར་བྱས་ཡོད་ཀྱང་། འདི་ནི་ལེགས་སྦྱར་གྱི་ཤརྐཀ་རཱ་ཟུར་ཆག་པ་ཡིན་གྱི་ལེགས་སྦྱར་དངོས་ཡིན་པར་མི་སེམས་སོ། །རྒྱ་གར་ཡུལ་སྐད་ལ། ཤཀྐར་ཟེར། <span class=\"CharOverride-10\" xml:lang=\"en-US\">3</span> གུར་གྱི་ཀ་རྒྱུག་གི་མིང་། ཁ་དཔེར། ཀ་ར་བཞིན་དུ་དྲང་དགོས། ཀ་རྡོ་བཞིན་དུ་བརྟན་དགོས། ཞེས་པ་ལྟ་བུ།  </p>,\n",
              " <p class=\"གཞུང་སྤྱི།_ཚིག་མཛོད་ཀྱི་གཞུང་དངོས།\">ཀ་ར་བི་ར། <span class=\"CharOverride-10\">(</span><span class=\"CharOverride-13\">ལེགས་སྦྱར</span><span class=\"CharOverride-10\">)</span> <span class=\"CharOverride-10\">(</span><span class=\"CharOverride-13\">འདུལ་བ</span><span class=\"CharOverride-10\">)</span> ཀ་ར་བི་རའི་མེ་ཏོག་དང་འདྲ།</p>,\n",
              " <p class=\"གཞུང་སྤྱི།_ཚིག་མཛོད་ཀྱི་གཞུང་དངོས།\">ཀ་ར་བི་རའི་མེ་ཏོག <span class=\"CharOverride-10\">(</span><span class=\"CharOverride-13\">འདུལ་བ</span><span class=\"CharOverride-10\">)</span> ཀཱ་ར་ཝཱི་རའི་མེ་ཏོག་དང་འདྲ། </p>,\n",
              " <p class=\"གཞུང་སྤྱི།_ཚིག་མཛོད་ཀྱི་གཞུང་དངོས།\">ཀཱ་ར་ཝཱི་རའི་མེ་ཏོག <span class=\"CharOverride-10\" xml:lang=\"en-US\">1</span> <span class=\"CharOverride-10\">(</span><span class=\"CharOverride-13\">འདུལ་བ</span><span class=\"CharOverride-10\">)</span> ལྟས་ངན་པར་བརྩི་བའི་མེ་ཏོག་དམར་པོ་ཞིག་གི་མིང་། དེ་རྒྱ་གར་ན་རོ་མཆོད་པའི་མེ་ཏོག་དང་རྒྱལ་པོས་གསོད་པ་ན་དེའི་ཕྲེང་བ་མགུལ་བར་འཆིང་བས་གསོད་རྟགས་ཞེས་བྱ་ལ་དེའི་ཕྱིར་མེ་ཏོག་དེའི་ཕྲེང་བ་འཛིན་པ་སོགས་རྨིས་ན་འཆི་ལྟས་སུ་བཤད། འདུལ་བ་ལུང་གཞི་༼ ག་པ ༽ལས། རབ་ཏུ་བྱུང་བ་འདི་ངས་སྤངས་ཀྱིས་དེང་ལ་སོད་ཅིག དེ་ནས་དེའི་མགུལ་བར་མེ་ཏོག་ཀ་ར་བཱི་རའི་ཕྲེང་བས་བཏགས་ནས་གཤེད་མ་གོས་སྔོན་པོ་གྱོན་པ་མཚོན་ཐོགས་པ་རྣམས་ཀྱིས་ཡོངས་སུ་བསྐོར་ནས་ལམ་པོ་ཆེ་དང་། ཚོང་འདུས་དང་། བཞི་མདོ་དང་། སུམ་མདོ་རྣམས་སུ་བསྒྲགས་ཏེ། གྲོང་ཁྱེར་ནས་སྐྱེད་མོས་ཚལ་ལོགས་སུ་ཁྲིད་དོ། །ཞེས་གསུངས་པ་ལྟར་རོ། །<span class=\"CharOverride-10\" xml:lang=\"en-US\">2</span> རྡུལ་གྱི་ཁམས་རབ་ཏུ་རྒྱས་པ་མཚོན། <span class=\"CharOverride-10\" xml:lang=\"en-US\">3</span> ཀློང་རྡོལ་བླ་མས། མེ་ཏོག་ཀ་ར་བི་ར། ཞེས་ཤོག་བུ་བཟོ་རྒྱུའི་རེ་ལྕག་མེ་ཏོག་ཅེས་ཀྱང་བཤད། བོད་རྒྱ་ཚིག་མཛོད་ཆེན་མོར་ཡང་དེ་བཞིན་དུ་གསལ། འདུལ་བ་ལུང་གཞི་པོད་གསུམ་པའི་ནང་། ཀ་ར་བཱི་ར་ཞེས་དག་ཆ་ཅུང་མི་འདྲ་བའང་སྣང་། </p>,\n",
              " <p class=\"གཞུང་སྤྱི།_ཚིག་མཛོད་ཀྱི་གཞུང་དངོས།\">ཀཱ་ར་ཝཱི་རའི་ཤིང་། <span class=\"CharOverride-10\">(</span><span class=\"CharOverride-13\">འདུ</span><span class=\"CharOverride-13\">ལ་བ</span><span class=\"CharOverride-10\">)</span> གསོད་རྟགས་ཞེས་པའི་མེ་ཏོག་དམར་པོ་དེ་སྐྱེ་བའི་ཤིང་སྡོང་། མིང་གི་རྣམ་གྲངས་ནི། སོ་སོར་རྒོད་དང་སོ་སོར་བཞད། །རྟ་གསོད་གསོད་རྟགས་མེ་ཏོག་ཅན། །བརྒྱར་གྱེས་དཔའ་བོའི་ལག་པ་དང་། །བཏུམ་པོ་ཀཱ་ར་ཝཱི་<br/>རའོ། །ཞེས་གསུངས། </p>,\n",
              " <p class=\"གཞུང་སྤྱི།_ཚིག་མཛོད་ཀྱི་གཞུང་དངོས།\">ཀཱ་རུ་ཎ། <span class=\"CharOverride-10\">(</span><span class=\"CharOverride-13\">ལེགས་སྦྱར</span><span class=\"CharOverride-10\">)</span> <span class=\"CharOverride-10\" xml:lang=\"en-US\">1</span> སྙིང་རྗེ། ངེས་ཚིག་ནི། བདེ་འགོག་སྟེ། ཀཱ་སུ་ཁ་སྟེ་བདེ་བ་<br/>དང་། རུ་རུ་ཎ་འགོག་པ་སྟེ་བདེ་འགོག་ཅེས་བྱའོ། །ཡང་ན། ངེས་ཚིག སྙིང་རྗེའི་སྐད་དོད་ཀཱ་རུ་ཎ་ཞེས་པ། ཀ་ལ་ཐིག་ལེ་བྱིན་ནས་ཀཾ་བདེ་བ་དང་། རུ་ཎ་འགོག་པ་སྟེ་བདེ་འགོག་ཅེས་བྱའོ། །རང་ཉིད་གཅིག་པུ་བདེ་བར་འདུག་པའི་བློ་འགོག་པས་ན་བདེ་འགོག་ཅེས་ཀྱང་ཟེར་རོ། །<span class=\"CharOverride-10\" xml:lang=\"en-US\">2</span> <span class=\"CharOverride-10\">(</span><span class=\"CharOverride-13\">གསང་སྔགས</span><span class=\"CharOverride-10\">)</span> བདེ་བ་ཆེན་པོའི་ཡེ་ཤེས། འཛག་བདེ་འགོག་པས་ན་སྙིང་རྗེའམ་བདེ་འགོག་ཅེས་བྱའོ། །</p>,\n",
              " <p class=\"གཞུང་སྤྱི།_ཚིག་མཛོད་ཀྱི་གཞུང་དངོས།\">ཀ་ལ་པིངྐ། <span class=\"CharOverride-10\">(</span><span class=\"CharOverride-13\">ལེགས་སྦྱར</span><span class=\"CharOverride-10\">)</span> སྙན་སྒྲོགས། སྐད་ཤིན་ཏུ་སྙན་པའི་བྱ་རིགས་རྒྱ་མཚོའི་གླིང་ན་གནས་པ་ཞིག འཕགས་བོད་སྐད་གཉིས་ཤན་སྦྱར་ན་གསལ།</p>,\n",
              " <p class=\"གཞུང་སྤྱི།_ཚིག་མཛོད་ཀྱི་གཞུང་དངོས།\">ཀ་ལ་བིངྐཿ <span class=\"CharOverride-10\">(</span><span class=\"CharOverride-13\">ལེགས་སྦྱར</span><span class=\"CharOverride-10\">)</span> མཆིལ་བའམ་ཁང་བྱིའུ། འདི་རྒྱ་མཚོའི་གླིང་གི་བྱ་སྐད་སྙན་པ་དེ་དང་མི་འདྲ། ཞེས་འཕགས་བོད་སྐད་གཉིས་ཤན་སྦྱར་ན་གསལ། </p>,\n",
              " <p class=\"གཞུང་སྤྱི།_ཚིག་མཛོད་ཀྱི་གཞུང་དངོས།\">ཀཱ་ལ་རཱུ་པ། <span class=\"CharOverride-10\">(</span><span class=\"CharOverride-13\">ལེགས་སྦྱར</span><span class=\"CharOverride-10\">)</span> དམ་ཅན་ཆོས་རྒྱལ་གྱི་མིང་། </p>,\n",
              " <p class=\"གཞུང་སྤྱི།_ཚིག་མཛོད་ཀྱི་གཞུང་དངོས།\">ཀཱ་ལ་རཱུ་པ་རབ་བརྗིད་དྲག་པོའི་སྐུ་ཞེས་སོགས། འདི་ལ་ཀ་བསྟོད་ཟེར་ཞིང་འདི་དམ་ཅན་ཆོས་རྒྱལ་གྱི་བསྟོད་པ་ཡིན། རྗེ་དགེ་འདུན་གྲུབ་ཀྱིས་མཛད། ཞིབ་པར་ཀ་བསྟོད་ཅེས་པའི་ཐད་དུ་གཟིགས། </p>,\n",
              " <p class=\"གཞུང་སྤྱི།_ཚིག་མཛོད་ཀྱི་གཞུང་དངོས།\">ཀ་ལནྟ་ཀ། <span class=\"CharOverride-10\">(</span><span class=\"CharOverride-13\">འདུལ་བ</span><span class=\"CharOverride-10\">)</span> <span class=\"CharOverride-10\">(</span><span class=\"CharOverride-13\">ལེགས་སྦྱར</span><span class=\"CharOverride-10\">)</span> <span class=\"CharOverride-10\" xml:lang=\"en-US\">1</span> བྱིའུ་ཆུང་ཆུང་ཞིག་གི་མིང་། འདུལ་བ་གཞི་རྒྱ་ཆེར་བཤད་པ་ལས། ཀ་ལནྟ་ཀའི་གནས་ཞེས་བྱ་བ་ནི། ཀ་ལནྟ་ཀ་ <span class=\"CharOverride-10\">(</span>མ་དཔེར་ཀ་ལན་ད་ཀ་ཞེས་བྲིས་སྣང་བས་ད་དུང་ཡང་དཔྱད་དོ<span class=\"CharOverride-10\">)</span> ཞེས་བྱ་བ་སྲོག་ཆགས་ཕྲ་མོ་དག་གི་གནས་ན་སྟེ། ཞེས་དང་། འདུལ་བ་རྣམ་པར་འབྱེད་པའི་ཚིག་རྣམ་པར་བཤད་པ་༼ ཚུ ༽༢༢ན༦ལས། བྱ་ཀ་ལན་ད་ཀའི་གནས་ཞེས་བྱ་བ་ནི་བྱ་བོང་ཆུང་ངུ་དག་གི་གནས་སོ། །ཞེས་གསུངས་སོ། །<span class=\"CharOverride-10\" xml:lang=\"en-US\">2</span> ནེའུ་ལེ་ཡིན་པར་བཤད། སྲེ་མོང་ཡང་ཟེར། འདི་ལ་ལེགས་སྦྱར་དུ་ན་ཀུ་ལཿ <span class=\"CharOverride-10\">Nakula</span><span class=\"CharOverride-18\"> </span>དང་། རྒྱ་གར་ཡུལ་སྐད་དུ་ནེབ་ལཱ <span class=\"CharOverride-10\">Nevl</span><span class=\"CharOverride-18\">ã <br/></span>དང་། བོད་སྐད་དུ་སྲེ་མོང་། བོད་སྐད་དུ་ནེའུ་ལེ་ཞེས་ཀྱང་འབོད། ན་ཀུ་ལཿཟུར་ཆག་ཅེས་ལི་ཤིའི་གུར་ཁང་དུ་གསལ་ཡང་། འདི་ནི་རྒྱ་གར་ཕལ་སྐད་ཀྱི་<span class=\"CharOverride-17\">नेवला</span>ནེ་བ་ལཱ་ཉིད་ཟུར་ཆག་པར་ཤིན་ཏུ་གསལ་ལོ། །ཕྱི་རྒྱལ་བས་ <span class=\"CharOverride-10\">Mongoose</span><span class=\"CharOverride-18\"> </span>ཟེར། རྒྱལ་ཁམས་རིག་པས་བསྐོར་བའི་གཏམ་རྒྱུད་གསེར་གྱི་ཐང་མ་ལས། ཀ་ལནྟ་ཀ་ནི་འདུལ་བའི་ཚིག་མང་པོར་སྲོག་ཆགས་ཀ་ལནྟ་ཀ་ཞེས་བསྒྱུར་ཅིང་སྲོག་ཆགས་ནི་བོད་རང་སྐད་འཆར་པར་དུད་འགྲོ་རྐང་བཞི་པའི་མིང་ཙམ་ཡིན་ལ། འོན་ཀྱང་སྐབས་འགར་ཀ་ལནྟ་ཀ་ཞེས་བྲིས་མོད། སྲེ་མོང་རང་དུ་འདུག འདིས་ཚང་ཤིང་རྩེ་ལ་བྱེད་པས་བྱར་འཁྲུལ་སྙམ་ཡོད། རྒྱ་ནག་ལའང་འདི་བྱ་ཞིག་གི་མིང་དུ་བྱས་ཡོད་ཟེར། རྒྱབ་གཞུང་དུ་གར་ཤ་ཡོད་པ་སཱི་ཏཱ་སྲིན་པོས་ཁྲིད་པའི་ཚེ་འདིས་སེམས་གསོ་བཏང་བས་རཱ་མས་ལག་པས་ཞུལ་ཞུལ་བྱས་པའི་ཤུལ་ཡིན་སོགས་ཟེར། འདིའི་མིང་ལ་མངོན་བརྗོད་དུ་རྒྱབ་ཁྲ་ཟེར་བ་དེ་ལ་བྱེད་པ་ཡིན་འདུག སྦྲུལ་མཐོང་ན་སྐད་འབྱིན་པ་ཡང་ཡོངས་གྲགས་ཡིན། འོད་མའི་ཚལ་གྱི་ཤུལ་ན་ཤིན་ཏུ་མང་བ་སྙམ་བྱེད། </p>,\n",
              " <p class=\"གཞུང་སྤྱི།_ཚིག་མཛོད་ཀྱི་གཞུང་དངོས།\">ཀ་ལན་ད་ཀ། <span class=\"CharOverride-10\">(</span><span class=\"CharOverride-13\">ལེགས་སྦྱར</span><span class=\"CharOverride-10\">)</span> <span class=\"CharOverride-10\">(</span><span class=\"CharOverride-13\">འདུལ་བ</span><span class=\"CharOverride-10\">)</span> ཀ་ལནྟ་ཀ་ལ་གཟིགས། </p>,\n",
              " <p class=\"གཞུང་སྤྱི།_ཚིག་མཛོད་ཀྱི་གཞུང་དངོས།\">ཀ་ལན་ད་ཀའི་གྲོང་ཁྱེར། <span class=\"CharOverride-10\">(</span><span class=\"CharOverride-13\">འདུལ་བ</span><span class=\"CharOverride-10\">)</span> འདིའི་ཀ་ལན་ད་ཀ་ནི་བྱིའུ་ལ་གོ་རྒྱུ་མིན་པར་མི་རིགས་ཤིག་ལ་གོ་དགོས་ཏེ། རྣམ་འབྱེད་འགྲེལ་༼ ཚུ ༽༡༡བ༤ལས། ཀ་ལན་ད་ཀའི་གྲོང་ཁྱེར་ཞེས་བྱ་བ་ནི་ཀ་ལན་ད་ཀ་ཞེས་བྱ་བ་རིགས་ཐ་དད་པ་དཔེར་ན་ཧུ་ན་ལ་སོགས་པ་དང་འདྲ་བའི་ཕྱིར་མི་དག་ཡོད་དོ། །དེ་དག་གི་གྲོང་ནི་ཀ་ལན་ད་ཀའི་གྲོང་ཁྱེར་ཞེས་བྱ་བ་སྟེ། ཞེས་གསུངས་སོ། །</p>,\n",
              " <p class=\"གཞུང་སྤྱི།_ཚིག་མཛོད་ཀྱི་གཞུང་དངོས།\">ཀ་ལན་ད་ཀའི་གནས། <span class=\"CharOverride-10\">(</span><span class=\"CharOverride-13\">འདུལ་བ</span><span class=\"CharOverride-10\">)</span> བྱིའུ་ཆུང་ཆུང་ཀ་ལན་ད་ཀ་ཞེས་བྱ་བ་དེ་རྩེ་ཞིང་འབབ་པའི་གནས་ལ་བཤད། </p>,\n",
              " <p class=\"གཞུང་སྤྱི།_ཚིག་མཛོད་ཀྱི་གཞུང་དངོས།\">ཀ་ལི། ཀ་ཕྲེང་། གསལ་བྱེད། སྒྲ་བཤད་ནི། ཀ་ནི་གསལ་བྱེད་ཀྱི་ཡི་གེའི་སྡེ་ཚན་རྣམས་ཡིན་ལ། ལི་ཞེས་པ་ནི། མཱ་ལི་ནཱི་སྟེ་ཕྲེང་བའི་སྐད་དོད་དོ། །དེས་ཨ་ལི་ལའང་རིགས་འགྲེའོ། ། </p>,\n",
              " <p class=\"གཞུང་སྤྱི།_ཚིག་མཛོད་ཀྱི་གཞུང་དངོས།\">ཀཱ་ལི། ཀ་ལི་དང་འདྲ། </p>,\n",
              " <p class=\"གཞུང་སྤྱི།_ཚིག་མཛོད་ཀྱི་གཞུང་དངོས།\">ཀ་ལི་ད་ས། <span class=\"CharOverride-10\">(</span><span class=\"CharOverride-13\">ལེགས་སྦྱར</span><span class=\"CharOverride-10\">)</span> ནག་མོ་ཁོལ་ཏེ། རྒྱ་གར་གྱི་ཕྱི་པའི་སྙན་ངག་མཁན་སྙན་གྲགས་ཅན་ཞིག དེ་ལྷ་མོ་ནག་མོ་ལ་ཤིན་ཏུ་གུས་པས་ཀཱ་ལི་ད་ས་སྟེ་ནག་མོའི་འབངས་སམ་ཁོལ་པོའམ་གཡོག་པོར་གྲགས་སོ། །འདི་སྐོར་རྒྱས་པར་ཏཱ་ར་ནཱ་ཐའི་རྒྱ་གར་ཆོས་འབྱུང་ན་གསལ། </p>,\n",
              " <p class=\"གཞུང་སྤྱི།_ཚིག་མཛོད་ཀྱི་གཞུང་དངོས།\">ཀ་ལིངྒ། <span class=\"CharOverride-10\">(</span><span class=\"CharOverride-13\">ལེགས་སྦྱར</span><span class=\"CharOverride-10\">)</span> <span class=\"CharOverride-10\" xml:lang=\"en-US\">1</span> ཨོ་ཌི་བི་ཤ་དང་དོན་གཅིག ཀ་ལིངྒ་ཞེས་པ་མཁས་དབང་དགེ་འདུན་ཆོས་འཕེལ་གྱིས་ཨོ་ཌི་བི་ཤ་དང་དོན་གཅིག་པར་བཤད། <span class=\"CharOverride-10\" xml:lang=\"en-US\">2</span> འཇམ་མགོན་ཀོང་སྤྲུལ་གྱིས། མང་ནང་གི་རྒྱབ་རྡོ་རྗེ་གདན་ནས་དཔག་ཚད་བཅུ་གཉིས་ཀྱི་ཚུ་རོལ་ན་གླང་པོ་འཛིན་པའི་ས་ཞེས་བྱ་བའི་སྒྲུབ་གནས་ཡོད་པ་ལ་བཞེད། <span class=\"CharOverride-10\" xml:lang=\"en-US\">3</span> འགའ་ཞིག་ལྷོ་ཕྱོགས་རྒྱ་མཚོའི་འགྲམ་གྱི་ཀ་ལིངྒ་དང་ཉེ་བའི་ཡུལ་འཁོར་ལ་བཞེད། <span class=\"CharOverride-10\" xml:lang=\"en-US\">4</span> ཁ་ཅིག་རྡོ་རྗེ་གདན་ནས་དཔག་ཚད་བཅུ་དྲུག་ལྷོ་ནུབ་ཏུ་ཕྱིན་པ་ན་ཡོད་པ་ལ་བཞེད། </p>]"
            ]
          },
          "metadata": {
            "tags": []
          },
          "execution_count": 32
        }
      ]
    },
    {
      "cell_type": "code",
      "metadata": {
        "id": "tWe6Q-eM4Frp"
      },
      "source": [
        "class Entry:\r\n",
        "  counter: int = 0\r\n",
        "  def __init__(self, name: str, defi: str, book: int):\r\n",
        "    self.name = name\r\n",
        "    self.defi = defi\r\n",
        "    self.book = book\r\n",
        "  def appendDefi(self, adefi: str):\r\n",
        "    self.defi = self.defi + adefi\r\n",
        "\r\n",
        "    Entry.counter += 1\r\n",
        "    # Entry.counter = 0"
      ],
      "execution_count": 52,
      "outputs": []
    },
    {
      "cell_type": "code",
      "metadata": {
        "colab": {
          "base_uri": "https://localhost:8080/"
        },
        "id": "Y6oBEeLT5sT4",
        "outputId": "b96f510b-42bc-485e-c4f5-efd0e83ad1d0"
      },
      "source": [
        "entries: list = []\r\n",
        "for p in ps:\r\n",
        "  namae: str = str(p).split(\">\")[1].split(\"<\")[0].strip()\r\n",
        "  imi: str = p.text\r\n",
        "  if imi.startswith(namae):\r\n",
        "    imi = imi[len(namae) - 1:].strip()\r\n",
        "  else:\r\n",
        "    print(\"Imi does not start with namae!\", p)\r\n",
        "    entries[-1].appendDefi(imi.strip())\r\n",
        "  entries.append(Entry(namae, imi, bookid))"
      ],
      "execution_count": 53,
      "outputs": [
        {
          "output_type": "stream",
          "text": [
            "Imi does not start with namae! <p class=\"གཞུང་སྤྱི།_ཚིག་མཛོད་ཀྱི་གཞུང་དངོས།\">             འདི་ལ་འཁྱུག་ཅེས་པ་ནི་མགྱོགས་པོར་འབྲི་བའི་དོན་གྱིས་འཁྱུག་ཅེས་བྱའོ། ། </p>\n"
          ],
          "name": "stdout"
        }
      ]
    },
    {
      "cell_type": "code",
      "metadata": {
        "id": "CvH0Mszt94QI"
      },
      "source": [
        "thedict: dict = {}\r\n",
        "for x in entries:\r\n",
        "  thedict[x.name] = x.defi"
      ],
      "execution_count": 55,
      "outputs": []
    },
    {
      "cell_type": "code",
      "metadata": {
        "colab": {
          "base_uri": "https://localhost:8080/"
        },
        "id": "dr4R5ixO_MeL",
        "outputId": "b6fc1f08-db10-4b69-f38b-dc8f95354502"
      },
      "source": [
        "len(thedict)"
      ],
      "execution_count": 56,
      "outputs": [
        {
          "output_type": "execute_result",
          "data": {
            "text/plain": [
              "2881"
            ]
          },
          "metadata": {
            "tags": []
          },
          "execution_count": 56
        }
      ]
    },
    {
      "cell_type": "code",
      "metadata": {
        "id": "00GKj5y24OYy"
      },
      "source": [
        "from __future__ import unicode_literals\r\n",
        "from writemdict import MDictWriter\r\n",
        "writer = MDictWriter(thedict, title=\"Gangjong Tsigzhod Che\", description=f\"\"\"<center><h2><font color=\"#900C3F\">Gangjong Tsigzhod Chenmo</font> v3</h2>\r\n",
        "for <a href=\"https://forum.freemdict.com/t/topic/4793/1\">manjushri </a><br>by <a href=\"https://github.com/OverflowCat/parseDicts/blob/slave/tibet.ipynb\">OverflowCat</a><br>with <b>{str(len(thedict))}</b> entries<br>at 2021-02-11 12:38:26</center>\"\"\")\r\n",
        "outfile = open(\"./drive/MyDrive/mdict/tibet/book2.mdx\", \"wb\")\r\n",
        "writer.write(outfile)\r\n",
        "outfile.close()"
      ],
      "execution_count": null,
      "outputs": []
    }
  ]
}