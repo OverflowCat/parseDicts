{
  "nbformat": 4,
  "nbformat_minor": 0,
  "metadata": {
    "colab": {
      "name": "gomde.ipynb",
      "provenance": [],
      "mount_file_id": "1l3BcsgqDHJanHM4viYANpZI4FpIlyv7D",
      "authorship_tag": "ABX9TyNFyx+9FOyubEkcBUDWkmU8",
      "include_colab_link": true
    },
    "kernelspec": {
      "name": "python3",
      "display_name": "Python 3"
    }
  },
  "cells": [
    {
      "cell_type": "markdown",
      "metadata": {
        "id": "view-in-github",
        "colab_type": "text"
      },
      "source": [
        "<a href=\"https://colab.research.google.com/github/OverflowCat/parseDicts/blob/slave/tibet/gomde.ipynb\" target=\"_parent\"><img src=\"https://colab.research.google.com/assets/colab-badge.svg\" alt=\"Open In Colab\"/></a>"
      ]
    },
    {
      "cell_type": "code",
      "metadata": {
        "colab": {
          "base_uri": "https://localhost:8080/"
        },
        "id": "rWW_JEd039jI",
        "outputId": "54242250-99ac-4eba-b314-393cd174cdcf"
      },
      "source": [
        "!pip install ebooklib\r\n",
        "import ebooklib\r\n",
        "from ebooklib import epub\r\n",
        "import binascii\r\n",
        "!mkdir writemdict\r\n",
        "!ls\r\n",
        "!cd writemdict\r\n",
        "!git clone https://github.com/zhansliu/writemdict --depth=1\r\n",
        "!cd ..\r\n",
        "import sys\r\n",
        "sys.path.insert(1, 'writemdict')\r\n",
        "!pip install beautifulsoup4\r\n",
        "from bs4 import BeautifulSoup"
      ],
      "execution_count": 1,
      "outputs": [
        {
          "output_type": "stream",
          "text": [
            "Collecting ebooklib\n",
            "\u001b[?25l  Downloading https://files.pythonhosted.org/packages/00/38/7d6ab2e569a9165249619d73b7bc6be0e713a899a3bc2513814b6598a84c/EbookLib-0.17.1.tar.gz (111kB)\n",
            "\r\u001b[K     |███                             | 10kB 15.6MB/s eta 0:00:01\r\u001b[K     |█████▉                          | 20kB 12.9MB/s eta 0:00:01\r\u001b[K     |████████▉                       | 30kB 7.4MB/s eta 0:00:01\r\u001b[K     |███████████▊                    | 40kB 7.3MB/s eta 0:00:01\r\u001b[K     |██████████████▊                 | 51kB 4.1MB/s eta 0:00:01\r\u001b[K     |█████████████████▋              | 61kB 4.6MB/s eta 0:00:01\r\u001b[K     |████████████████████▋           | 71kB 4.7MB/s eta 0:00:01\r\u001b[K     |███████████████████████▌        | 81kB 5.0MB/s eta 0:00:01\r\u001b[K     |██████████████████████████▍     | 92kB 5.2MB/s eta 0:00:01\r\u001b[K     |█████████████████████████████▍  | 102kB 4.3MB/s eta 0:00:01\r\u001b[K     |████████████████████████████████| 112kB 4.3MB/s \n",
            "\u001b[?25hRequirement already satisfied: lxml in /usr/local/lib/python3.7/dist-packages (from ebooklib) (4.2.6)\n",
            "Requirement already satisfied: six in /usr/local/lib/python3.7/dist-packages (from ebooklib) (1.15.0)\n",
            "Building wheels for collected packages: ebooklib\n",
            "  Building wheel for ebooklib (setup.py) ... \u001b[?25l\u001b[?25hdone\n",
            "  Created wheel for ebooklib: filename=EbookLib-0.17.1-cp37-none-any.whl size=38165 sha256=1623ccc2641f8ac2fe0ab5b69509c68d9210c7893396ff53d6f4df30de9a6a0c\n",
            "  Stored in directory: /root/.cache/pip/wheels/84/11/01/951369cbbf8f96878786a1f4da68bd7ac19a5d945b38e03d54\n",
            "Successfully built ebooklib\n",
            "Installing collected packages: ebooklib\n",
            "Successfully installed ebooklib-0.17.1\n",
            "drive  sample_data  writemdict\n",
            "Cloning into 'writemdict'...\n",
            "remote: Enumerating objects: 12, done.\u001b[K\n",
            "remote: Counting objects: 100% (12/12), done.\u001b[K\n",
            "remote: Compressing objects: 100% (11/11), done.\u001b[K\n",
            "remote: Total 12 (delta 0), reused 7 (delta 0), pack-reused 0\u001b[K\n",
            "Unpacking objects: 100% (12/12), done.\n",
            "Requirement already satisfied: beautifulsoup4 in /usr/local/lib/python3.7/dist-packages (4.6.3)\n"
          ],
          "name": "stdout"
        }
      ]
    },
    {
      "cell_type": "code",
      "metadata": {
        "id": "P4NkecM3Bwx5"
      },
      "source": [
        "class Entry:\r\n",
        "  counter: int = 0\r\n",
        "  def __init__(self, name: str, defi: str, book: int):\r\n",
        "    self.name = name\r\n",
        "    self.defi = defi\r\n",
        "    self.book = book\r\n",
        "  def appendDefi(self, adefi: str):\r\n",
        "    self.defi = self.defi + adefi\r\n",
        "    Entry.counter += 1"
      ],
      "execution_count": 57,
      "outputs": []
    },
    {
      "cell_type": "code",
      "metadata": {
        "id": "1HUfntVE4ITH",
        "colab": {
          "base_uri": "https://localhost:8080/"
        },
        "outputId": "78be257e-91ed-4b34-b84c-00f7d45c973c"
      },
      "source": [
        "entries: list = []\r\n",
        "for bookid in range(1, 4 + 1):\r\n",
        "  book = epub.read_epub(f'./drive/MyDrive/mdict/tibet/{str(bookid)}.epub')\r\n",
        "  all_items = book.get_items()\r\n",
        "  docs = book.get_items_of_type(ebooklib.ITEM_DOCUMENT)\r\n",
        "  xmls = []\r\n",
        "  for item in book.get_items():\r\n",
        "      if item.get_type() == ebooklib.ITEM_DOCUMENT:\r\n",
        "        xmls.append(item.get_content().decode(\"utf-8\"))\r\n",
        "  xml = xmls[1]\r\n",
        "  s = BeautifulSoup(xml)\r\n",
        "  ps = s.select('p[class^=གཞུང་སྤྱི།_ཚིག་མཛོད]')\r\n",
        "  for p in ps:\r\n",
        "    namae: str = str(p).split(\">\")[1].split(\"<\")[0].strip()\r\n",
        "    imi: str = p.text\r\n",
        "    if imi.startswith(namae):\r\n",
        "      imi = imi[len(namae) - 1:].strip()\r\n",
        "    else:\r\n",
        "      print(\"不是词条！\" or \"Imi does not start with namae!\", p)\r\n",
        "      entries[-1].appendDefi(\"<br>\" + imi.strip()) # 接到前一条上\r\n",
        "    entries.append(Entry(namae, imi, bookid))\r\n",
        "  thedict: dict = {}\r\n",
        "  for x in entries:\r\n",
        "    thedict[x.name] = x.defi\r\n",
        "  print(f\"Total entries: {str(len(thedict))}.\")"
      ],
      "execution_count": 65,
      "outputs": [
        {
          "output_type": "stream",
          "text": [
            "不是词条！ <p class=\"གཞུང་སྤྱི།_ཚིག་མཛོད་ཀྱི་གཞུང་དངོས།\">             འདི་ལ་འཁྱུག་ཅེས་པ་ནི་མགྱོགས་པོར་འབྲི་བའི་དོན་གྱིས་འཁྱུག་ཅེས་བྱའོ། ། </p>\n",
            "Total entries: 2881.\n",
            "不是词条！ <p class=\"གཞུང་སྤྱི།_ཚིག་མཛོད་ཀྱི་གཞུང་དངོས།\"> (ཕྱིའི་སྲིད་པ་མཚོན་ཚུལ་ནི) </p>\n",
            "不是词条！ <p class=\"གཞུང་སྤྱི།_ཚིག་མཛོད་ཀྱི་གཞུང་དངོས།\"> (ནཱ་དས) བདེ་སྟོང་གི་དེ་བཞིན་ཉིད།</p>\n",
            "不是词条！ <p class=\"གཞུང་སྤྱི།_ཚིག་མཛོད་ཀྱི་གཞུང་དངོས།\"> (རྣམ་བཅད་དང་ཐིག་ལེས) ཟླ་ཉི་གཉིས་མཚོན།</p>\n",
            "不是词条！ <p class=\"གཞུང་སྤྱི།_ཚིག་མཛོད་ཀྱི་གཞུང་དངོས།\"> (ཧ) གཟུགས་མེད་ཀྱི་གནས་མཚོན།</p>\n",
            "不是词条！ <p class=\"གཞུང་སྤྱི།_ཚིག་མཛོད་ཀྱི་གཞུང་དངོས།\"> (ཀྵ) འདོད་གཟུགས་ལྷའི་གནས།</p>\n",
            "不是词条！ <p class=\"གཞུང་སྤྱི།_ཚིག་མཛོད་ཀྱི་གཞུང་དངོས།\"> (མ) ལྷུན་པོ།</p>\n",
            "不是词条！ <p class=\"གཞུང་སྤྱི།_ཚིག་མཛོད་ཀྱི་གཞུང་དངོས།\"> (ལ) པདྨ།</p>\n",
            "不是词条！ <p class=\"གཞུང་སྤྱི།_ཚིག་མཛོད་ཀྱི་གཞུང་དངོས།\"> (ཝ) ཆུའི་དཀྱིལ་འཁོར་མཚོན།</p>\n",
            "不是词条！ <p class=\"གཞུང་སྤྱི།_ཚིག་མཛོད་ཀྱི་གཞུང་དངོས།\"> (ར) མེ།</p>\n",
            "不是词条！ <p class=\"གཞུང་སྤྱི།_ཚིག་མཛོད་ཀྱི་གཞུང་དངོས།\"> (ཡ) རླུང༌།</p>\n",
            "不是词条！ <p class=\"གཞུང་སྤྱི།_ཚིག་མཛོད་ཀྱི་གཞུང་དངོས།\"> (སྲོག་ཏུ་ཞུགས་པའི་ཨས) ནམ་མཁའ།</p>\n",
            "不是词条！ <p class=\"གཞུང་སྤྱི།_ཚིག་མཛོད་ཀྱི་གཞུང་དངོས།\"> (ནང་སྒྲུབ་པ་པོའི་རྡོ་རྗེའི་ལུས་མཚོན་ཚུལ་ནི) </p>\n",
            "不是词条！ <p class=\"གཞུང་སྤྱི།_ཚིག་མཛོད་ཀྱི་གཞུང་དངོས།\"> (ནཱ་དས) འདིས་ནི་གང་ལ་གནད་དུ་བསྣུན་པའི་རྡོ་རྗེའི་ལུས་ཀྱི་གནད་ཆེ་ས་དག་ཀྱང་མཚོན་པར་བྱེད་དོ། །</p>\n",
            "不是词条！ <p class=\"གཞུང་སྤྱི།_ཚིག་མཛོད་ཀྱི་གཞུང་དངོས།\"> (ཧྃ) དེས་རྩ་དབུ་མ་དང་རོ་རྐྱང་གཉིས་མཚོན།</p>\n",
            "不是词条！ <p class=\"གཞུང་སྤྱི།_ཚིག་མཛོད་ཀྱི་གཞུང་དངོས།\"> (ཀྵ) གསང་གནས་ཀྱི་པདྨ།</p>\n",
            "不是词条！ <p class=\"གཞུང་སྤྱི།_ཚིག་མཛོད་ཀྱི་གཞུང་དངོས།\"> (མ) ལྟེ་བ་ནས་གསང་གནས་ཀྱི་བར་གྱི་ལུས་སམ་སྒལ་ཚིགས།</p>\n",
            "不是词条！ <p class=\"གཞུང་སྤྱི།_ཚིག་མཛོད་ཀྱི་གཞུང་དངོས།\"> (ལ) ལྟེ་བའི་འཁོར་ལོ།</p>\n",
            "不是词条！ <p class=\"གཞུང་སྤྱི།_ཚིག་མཛོད་ཀྱི་གཞུང་དངོས།\"> (ཝ) སྙིང་ག</p>\n",
            "不是词条！ <p class=\"གཞུང་སྤྱི།_ཚིག་མཛོད་ཀྱི་གཞུང་དངོས།\"> (ར) མགྲིན་པ།</p>\n",
            "不是词条！ <p class=\"གཞུང་སྤྱི།_ཚིག་མཛོད་ཀྱི་གཞུང་དངོས།\"> (ཡ) དཔྲལ་བ།</p>\n",
            "不是词条！ <p class=\"གཞུང་སྤྱི།_ཚིག་མཛོད་ཀྱི་གཞུང་དངོས།\"> (སྦྱོང་བྱེད་བསྐྱེད་རིམ་མཚོན་ཚུལ་ནི) ཡི་གེ་རྣམས་བརྩེགས་པའི་གོ་རིམ་གྱིས་བསྐྱེད་རིམ་གྱི་རྟེན་དང་བརྟེན་པ་བསྐྱེད་པའི་གོ་རིམ་ཀྱང་མཚོན།</p>\n",
            "不是词条！ <p class=\"གཞུང་སྤྱི།_ཚིག་མཛོད་ཀྱི་གཞུང་དངོས།\"> (ནཱ་དས) དཀྱིལ་འཁོར་གྱི་གཙོ་བོ་དུས་ཀྱི་འཁོར་ལོ་དང༌། འཁོར་གྱི་ལྷ་ཐམས་ཅད་མཚོན།</p>\n",
            "不是词条！ <p class=\"གཞུང་སྤྱི།_ཚིག་མཛོད་ཀྱི་གཞུང་དངོས།\"> (ཧྃ) དེས་ཟླ་གཉིས་སྒྲ་གཅན་གྱི་གདན་དང༌། གཞལ་ཡས་ཁང་མཚོན།</p>\n",
            "不是词条！ <p class=\"གཞུང་སྤྱི།_ཚིག་མཛོད་ཀྱི་གཞུང་དངོས།\"> (ཀྵ) པདྨ།</p>\n",
            "不是词条！ <p class=\"གཞུང་སྤྱི།_ཚིག་མཛོད་ཀྱི་གཞུང་དངོས།\"> (ལ) ས་དཀྱིལ།</p>\n",
            "不是词条！ <p class=\"གཞུང་སྤྱི།_ཚིག་མཛོད་ཀྱི་གཞུང་དངོས།\"> (ཝ) ཆུ་དཀྱིལ།</p>\n",
            "不是词条！ <p class=\"གཞུང་སྤྱི།_ཚིག་མཛོད་ཀྱི་གཞུང་དངོས།\"> (ར) མེ་དཀྱིལ།</p>\n",
            "不是词条！ <p class=\"གཞུང་སྤྱི།_ཚིག་མཛོད་ཀྱི་གཞུང་དངོས།\"> (ཡ) རླུང་དཀྱིལ།</p>\n",
            "不是词条！ <p class=\"གཞུང་སྤྱི།_ཚིག་མཛོད་ཀྱི་གཞུང་དངོས།\"> (ཡ་ཡིག་གི་སྲོག་ཏུ་ཞུགས་པའི་ཨས) ཆོས་འབྱུང༌།</p>\n",
            "不是词条！ <p class=\"གཞུང་སྤྱི།_ཚིག་མཛོད་ཀྱི་གཞུང་དངོས།\"> (རྫོགས་རིམ་མཚོན་ཚུལ་ནི) </p>\n",
            "不是词条！ <p class=\"གཞུང་སྤྱི།_ཚིག་མཛོད་ཀྱི་གཞུང་དངོས།\"> (ཧྃ) དེས་ཡས་རིམ་བཞིན་གཏུམ་མོ། ཁུ་བ། སེམས་བདེ་བའི་ངོ་བོར་སྐྱེས་པ་མཚོན། དེ་ཡང་རྣམ་བཅད་ཀྱིས་གཏུམ་མོ་འོག་ནས་འབར་བ་དང༌། ཐིག་ལེས་ཁུ་བ་སྟེང་ནས་འབབ་པ་མཚོན།</p>\n",
            "不是词条！ <p class=\"གཞུང་སྤྱི།_ཚིག་མཛོད་ཀྱི་གཞུང་དངོས།\"> (ནཱ་དས) སེམས་བདེ་བའི་ངོ་བོར་སྐྱེས་པ་མཚོན།</p>\n",
            "不是词条！ <p class=\"གཞུང་སྤྱི།_ཚིག་མཛོད་ཀྱི་གཞུང་དངོས།\"> (ཀྵ) གསང་བའི་རྩ་འཁོར་གྱི་པདྨ།</p>\n",
            "不是词条！ <p class=\"གཞུང་སྤྱི།_ཚིག་མཛོད་ཀྱི་གཞུང་དངོས།\"> (ལ) ལྟེ་བ་ནས་གསང་གནས་ཀྱི་བར་གྱི་ལུས་སམ་སྒལ་ཚིགས།</p>\n",
            "不是词条！ <p class=\"གཞུང་སྤྱི།_ཚིག་མཛོད་ཀྱི་གཞུང་དངོས།\"> (ཝ) སྙིང་གའི་རྩ་འཁོར།</p>\n",
            "不是词条！ <p class=\"གཞུང་སྤྱི།_ཚིག་མཛོད་ཀྱི་གཞུང་དངོས།\"> (ར) མགྲིན་པའི་རྩ་འཁོར།</p>\n",
            "不是词条！ <p class=\"གཞུང་སྤྱི།_ཚིག་མཛོད་ཀྱི་གཞུང་དངོས།\"> (ཡ) དཔྲལ་བའི་རྩ་འཁོར།</p>\n",
            "不是词条！ <p class=\"གཞུང་སྤྱི།_ཚིག་མཛོད་ཀྱི་གཞུང་དངོས།\"> (ཧྃ) དེས་བདེ་བ་ཆེན་པོའི་ཡེ་ཤེས།</p>\n",
            "不是词条！ <p class=\"གཞུང་སྤྱི།_ཚིག་མཛོད་ཀྱི་གཞུང་དངོས།\"> (ཀྵ་མ་ལ་ཝ་ར་ཡ) རྣམས་ཀྱིས་ཁམས་དྲུག་པོ་ཐམས་ཅད་སྒྲིབ་བྲལ་དུ་གྱུར་པའི་སྟོང་ཆེན་གྱི་ཡི་གེ་ལྔ་དང༌། ཡིག་དྲུག་མཚོན། མདོར་ན་དུས་འཁོར་གྱི་སྔགས་འདིས་ཕྱི་ནང་གཞན་གསུམ་མམ། ཡང་ན་གཞི་ལམ་འབྲས་གསུམ་རྫོགས་པར་མཚོན་པའི་ལཉྫའི་ཡི་གེ་རྨད་དུ་བྱུང་བ་ཞིག་གོ། མཁས་གྲུབ་ཐམས་ཅད་མཁྱེན་པའི་གསུང་ལ་གཞི་བྱས་ཏེ་རགས་རིམ་ཙམ་ཞིག་བཀོད། རྣམ་བཅུ་དབང་ལྡན་ཞེས་པའི་ཡི་གེ་རྣམ་པ་བཅུ་ནི། ༡ ནཱ་ད། (  ྂ ) ༢ རྣམ་བཅད་དང་ཐིག་ལེ། (  ྃ ) ༣ ཧ ༤ ཀྵ ༥ མ ༦ ལ ༧ ཝ ༨ ར ༩ ཡ ༡༠ ཨ (ཡི་གེ་དེ་དག་གི་སྲོག་ཏུ་ཞུགས་པའི་ཨ་ཡིག) བཅས་སོ། །</p>\n",
            "Total entries: 5970.\n",
            "不是词条！ <p class=\"གཞུང་སྤྱི།_ཚིག་མཛོད་ཀྱི་གཞུང་དངོས།\">       མཛོད་རྩ་བ་ལས། སྐད་ཅིག་ཕྲ་རབ་རྡུལ་དང་ནི། །རྡུལ་ཕྲན་དང་ནི་དེ་བཞིན་དུ། །ལྕགས་ཆུ་རི་བོང་ལུག་དང་གླང༌། །ཉི་ཟེར་རྡུལ་དང་སྲོ་མ་དང༌། །དེ་ལས་བྱུང་དང་དེ་བཞིན་དུ། <span class=\"CharOverride-5\">(</span>ནས་དང་<span class=\"CharOverride-5\">)</span> །སོར་ཚིགས་ཞེས་བྱ་གོང་བདུན་བསྒྱུར། །སོར་མོ་ཉི་ཤུ་བཞི་ལ་ཁྲུ། །ཁྲུ་བཞི་ལ་ནི་གཞུ་གང་ངོ། དེ་དག་ལྔ་བརྒྱ་རྣམས་ལ་ནི། །རྒྱང་གྲགས་དེ་ལ་དགོན་པར་འདོད། །དེ་བརྒྱད་དཔག་ཚད་ཅེས་བྱའོ། ། ཞེས་གསུངས་པ་ལྟར་གོང་ནས་གོང་དུ་བདུན་བསྒྱུར་དུ་གསུངས་ལ། ལུང་རྣམ་འབྱེད་ལས་ནི་གོང་ནས་གོང་དུ་དྲུག་བསྒྱུར་དུ་གསུངས་པ་ནི་ཁྱད་པར་རོ། །འདུལ་བ་ལུང་རྣམ་འབྱེད་<span class=\"CharOverride-6\">༼</span> ཉ་པ <span class=\"CharOverride-6\">༽</span>༢༣༩ན༥ལས། དགོན་པ་ཞེས་བྱ་བ་ནི་རྡུལ་ཕྲ་རབ་དྲུག་ལ་རྡུལ་ཕྲ་མོ་གཅིག་གོ། རྡུལ་ཕྲ་མོ་དྲུག་ལ་ཆུ་རྡུལ་གཅིག་གོ། ཆུ་རྡུལ་དྲུག་ལ་ལྕགས་རྡུལ་གཅིག་གོ། ལྕགས་རྡུལ་དྲུག་ལ་རི་བོང་གི་རྡུལ་གཅིག་གོ། རི་བོང་གི་རྡུལ་དྲུག་ལ་ལུག་རྡུལ་གཅིག་གོ། ལུག་རྡུལ་དྲུག་ལ་གླང་རྡུལ་གཅིག་གོ། གླང་རྡུལ་དྲུག་ལ་ཉི་ཟེར་གྱི་རྡུལ་གཅིག་གོ། ཉི་ཟེར་གྱི་རྡུལ་དྲུག་ལ་སྲོ་མ་གཅིག་གོ། སྲོ་མ་གཅིག་ལ་ཤིག་གཅིག་གོ། ཤིག་གཅིག་ལ་ནས་གཅིག་གོ། ནས་དྲུག་ལ་སོར་གཅིག་གོ། སོར་དྲུག་ལ་ཁྲུ་གང་ངོ་། །ཁྲུ་ཕྱེད་དང་བཞི་ལ་མིའི་སྲིད་དོ། །ཁྲུ་བཞི་ལ་གཞུའོ། །གཞུ་ལྔ་བརྒྱ་ལ་རྒྱང་གྲགས་གཅིག་སྟེ། གྲོང་ནས་རྒྱང་གྲགས་གཅིག་ནི་དགོན་པ་སྟེ། ཞེས་གསུངས་སོ། །</p>\n",
            "Total entries: 8666.\n",
            "不是词条！ <p class=\"གཞུང་སྤྱི།_ཚིག་མཛོད་དངོས།\">    གོང་གསལ་ཚེས་གྲངས་རྣམས་ལ་བ་དན་ཁྲ་བོ་ཤར་བའི་སྐབས་འཁེལ་བས་དར་ལྕོག་འཛུགས་མི་རུང་བར་བཤད། བ་དན་ཁྲ་བོ་ཤར་མིན་གོང་གི་རེའུ་མིག་ལ་བལྟ་དགོས་པ། དཔེར་ན་བོད་ཟླ་དང་པོའི་ཚེས་བཅུ་ལ་བ་དན་ཁྲ་བོ་ཤར་བས་དེ་ཉིན་དར་ལྕོག་འཛུགས་མི་རུང་། དེས་དུས་ཚེས་གཞན་ལའང་རིགས་འགྲེ། བ་དན་ཁྲ་བོ་ཤར་ཚེ་དར་ལྕོག་བཙུགས་ན་ཕན་ལས་གནོད་པ་ཆེ་བ་བཻ་དཀར་ལས་གསུངས་པར་བཤད་དོ། །དོགས་གཅོད། ཡང་འགའ་ཞིག་གིས། གོང་གི་ཁམས་མཐུན་གྱི་དར་ལྕོགས་འཛུགས་ཚུལ་བཤད་པ་དེ་ནོར་བ་རེད་གསུང་མཁན་ཡང་འདུག་པ་འདི་ལྟར། བླ་བྲང་དགེ་བཤེས་ལྷ་མོ་ཚུལ་ཁྲིམས་ཚང་གི་འབྱུང་རྩིས་མཚན་བསྡུས་ན་དཔག་བསམ་ལྗོན་ཤིང་། དེབ་གཟུགས་ཤོག་ངོས་ <span class=\"CharOverride-7\">༩</span> གཤམ་ནས་ཡར་ཐིག་ཕྲེང་<span class=\"CharOverride-7\">༨</span>པར། རླུང་རྟ་ངོས་འཛིན་བསྟན་བྱ་བ། །སྟག་རྟ་ཁྱི་གསུམ་རླུང་སྤྲེལ་ལྕགས། །ཕག་ལུག་ཡོས་གསུམ་རླུང་སྦྲུལ་མེ། །བྱ་གླང་སྦྲུལ་གསུམ་རླུང་ཕག་ཆུ། །བྱི་འབྲུག་སྤྲེལ་གསུམ་རླུང་སྟག་ཤིང་། །ཞེས་གསུངས་པ་ལྟར། གང་ཟག་སྟག་རྟ་ཁྱི་གསུམ་ལོ་པའི་རླུང་རྟའི་ལྷ་ལྕགས་སྤྲེལ་ཡིན་ཞིང་། དེའི་ཁ་དོག་ཀྱང་རང་གི་རླུང་ལྷའི་ཁམས་ལ་བྱེད་དགོས། དཔེར་ན་སྟག་རྟ་ཁྱི་གསུམ་ལོ་པའི་རླུང་ལྷ་ལྕགས་སྤྲེལ་ཡིན་པས་དེའི་ཁ་དོག་ལྕགས་སྟེ་དཀར་པོ་བྱེད་དགོས། གཞན་ཡང་<span class=\"CharOverride-7\">༧</span>གོང་ས་མཆོག་གི་སྐུའི་དགུང་ཁམས་ཕག་ཡིན་པས། ཕག་ལུག་ཡོས་གསུམ་ལོ་པའི་རླུང་རྟའི་ལྷ་མེ་སྦྲུལ་ཡིན་པས། དེའི་ཁ་དོག་དམར་པོ་ཡིན་དགོས་པ་ལས་ལྗང་ཁུ་ཡིན་ཞེས་འགྲེལ་བཤད་བྱེད་མཁན་ཡང་འདུག་པས། ད་དུང་དཔྱད་པར་བྱའོ། །</p>\n",
            "不是词条！ <p class=\"གཞུང་སྤྱི།_ཚིག་མཛོད་དངོས།\"> (ཁོ་བོས་དག་ཡིག་གསར་བསྒྲིགས་དེ་ཙམ་བལྟ་ཀློག་མི་བྱེད་པས་ཡིག་ནོར་སོགས་མཐོང་རྒྱུའི་གོ་སྐབས་ཤིན་ཏུ་ཉུང་བས་དེ་ཙམ་མོ) </p>\n",
            "Total entries: 11358.\n"
          ],
          "name": "stdout"
        }
      ]
    },
    {
      "cell_type": "markdown",
      "metadata": {
        "id": "qGMY87JcA7GD"
      },
      "source": [
        "> གཞུང་སྤྱི།_ཚིག་མཛོད開頭的class應該都是詞條。不只是གཞུང་སྤྱི།_ཚིག་མཛོད་ཀྱི་གཞུང་དངོས།\r\n",
        "\r\n",
        "[选择器](https://www.w3schools.com/cssref/sel_attr_begin.asp)：CSS `[attribute^=value]` Selector"
      ]
    },
    {
      "cell_type": "code",
      "metadata": {
        "id": "00GKj5y24OYy"
      },
      "source": [
        "from __future__ import unicode_literals\r\n",
        "from writemdict import MDictWriter\r\n",
        "writer = MDictWriter(thedict, title=\"Gomde Tsikzoe Chenmo\", description=f\"\"\"<center><h2><font color=\"#900C3F\">Gomde Tsikzoe Chenmo</font> v3</h2>\r\n",
        "for <a href=\"https://forum.freemdict.com/t/topic/4793/1\">manjushri </a><br>by <a href=\"https://github.com/OverflowCat/parseDicts/tree/slave/tibet\">OverflowCat</a><br>with <b>{str(len(thedict))}</b> entries<br>at 2021-03-01 17:10</center>\"\"\")\r\n",
        "outfile = open(\"./drive/MyDrive/mdict/tibet/books.mdx\", \"wb\")\r\n",
        "writer.write(outfile)\r\n",
        "outfile.close()"
      ],
      "execution_count": 67,
      "outputs": []
    }
  ]
}